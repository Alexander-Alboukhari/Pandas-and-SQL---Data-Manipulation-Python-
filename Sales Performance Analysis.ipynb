{
 "cells": [
  {
   "cell_type": "markdown",
   "metadata": {},
   "source": [
    "## Pandas and SQL - Data Manipulation(Python)\n",
    "\n",
    "The following ERD shows the design of The database. This is a simplified version of the very popular \"Northwind Traders\" database.\n",
    "\n",
    "<img src = \"Northwind2020_ERD.png\" style=width:500px;/>\n",
    "\n",
    "    "
   ]
  },
  {
   "cell_type": "code",
   "execution_count": 1,
   "metadata": {},
   "outputs": [
    {
     "name": "stdout",
     "output_type": "stream",
     "text": [
      "Opened database successfully\n"
     ]
    }
   ],
   "source": [
    "#import needed libraries\n",
    "import sqlite3;\n",
    "import pandas as pd;\n",
    "#pandas is similar and uses a lot of the same coding ideoms as NumPy, but it is is the better suited library for data which is categorised data. i.e data we can expect to look similar like tabulated or binary data.\n",
    "#Connect to the database and instantiate cursor\n",
    "conn = sqlite3.connect('Northwind2020.db')\n",
    "cursor = conn.cursor()\n",
    "print(\"Opened database successfully\")\n"
   ]
  },
  {
   "cell_type": "markdown",
   "metadata": {},
   "source": [
    "#                                                                       1. Sales Performance Analysis"
   ]
  },
  {
   "cell_type": "markdown",
   "metadata": {},
   "source": [
    "## --> Top 10 Best-Selling Products <--\n"
   ]
  },
  {
   "cell_type": "markdown",
   "metadata": {},
   "source": [
    "### Shows which products contribute most to sales volume."
   ]
  },
  {
   "cell_type": "code",
   "execution_count": 2,
   "metadata": {},
   "outputs": [
    {
     "name": "stdout",
     "output_type": "stream",
     "text": [
      "              ProductName  TotalSold\n",
      "0       Camembert Pierrot       1577\n",
      "1    Raclette Courdavault       1496\n",
      "2       Gorgonzola Telino       1397\n",
      "3  Gnocchi di nonna Alice       1263\n",
      "4                 Pavlova       1158\n",
      "5    Rhönbräu Klosterbier       1155\n",
      "6      Guaraná Fantástica       1125\n",
      "7        Boston Crab Meat       1103\n",
      "8          Tarte au sucre       1083\n",
      "9             Flotemysost       1057\n"
     ]
    }
   ],
   "source": [
    "Top_10 =\"\"\" SELECT  \n",
    "           p.ProductName,\n",
    "           SUM(oi.Quantity) AS TotalSold \n",
    "FROM Product p\n",
    "JOIN OrderItem oi ON p.Id = oi.ProductId\n",
    "GROUP BY p.ProductName\n",
    "ORDER BY TotalSold DESC\n",
    "LIMIT 10;\"\"\"\n",
    "\n",
    "# Run the query\n",
    "result = pd.read_sql_query(Top_10, conn)\n",
    "\n",
    "# Show the result\n",
    "print(result)\n",
    "\n",
    "\n"
   ]
  },
  {
   "cell_type": "markdown",
   "metadata": {},
   "source": [
    "## --> Revenue Trend <--"
   ]
  },
  {
   "cell_type": "markdown",
   "metadata": {},
   "source": [
    "### Analyzes revenue growth or decline over time."
   ]
  },
  {
   "cell_type": "code",
   "execution_count": 3,
   "metadata": {},
   "outputs": [
    {
     "name": "stdout",
     "output_type": "stream",
     "text": [
      "      Revenue\n",
      "0  1354458.59\n"
     ]
    }
   ],
   "source": [
    "M_trend=\"\"\"SELECT\n",
    "    ROUND(SUM(oi.UnitPrice * oi.Quantity), 2) AS Revenue\n",
    "FROM \"Order\" o\n",
    "JOIN OrderItem oi ON o.Id = oi.OrderId;\"\"\"\n",
    "\n",
    "\n",
    "# Run the query\n",
    "result = pd.read_sql_query(M_trend, conn)\n",
    "\n",
    "# Show the result\n",
    "print(result)\n",
    "\n"
   ]
  },
  {
   "cell_type": "markdown",
   "metadata": {},
   "source": [
    "## --> Total Sales by Country <--"
   ]
  },
  {
   "cell_type": "markdown",
   "metadata": {},
   "source": [
    "### Finds which countries generate the most revenue"
   ]
  },
  {
   "cell_type": "code",
   "execution_count": 4,
   "metadata": {},
   "outputs": [
    {
     "name": "stdout",
     "output_type": "stream",
     "text": [
      "        Country  Total_Revenue\n",
      "0           USA      263566.98\n",
      "1       Germany      244640.63\n",
      "2       Austria      139496.63\n",
      "3        Brazil      114968.48\n",
      "4        France       85498.76\n",
      "5     Venezuela       60814.89\n",
      "6            UK       60616.51\n",
      "7        Sweden       59523.70\n",
      "8       Ireland       57317.39\n",
      "9        Canada       55334.10\n",
      "10      Belgium       35134.98\n",
      "11      Denmark       34782.25\n",
      "12  Switzerland       32919.50\n",
      "13       Mexico       24073.45\n",
      "14      Finland       19778.45\n",
      "15        Spain       19431.89\n",
      "16        Italy       16705.15\n",
      "17     Portugal       12468.65\n",
      "18    Argentina        8119.10\n",
      "19       Norway        5735.15\n",
      "20       Poland        3531.95\n"
     ]
    }
   ],
   "source": [
    "Total_SC=\"\"\"SELECT c.Country,\n",
    "           ROUND(SUM(oi.UnitPrice * oi.Quantity), 2) AS Total_Revenue\n",
    "FROM Customer c\n",
    "JOIN \"Order\" o ON c.Id = o.CustomerId\n",
    "JOIN OrderItem oi ON o.Id = oi.OrderId\n",
    "GROUP BY c.Country\n",
    "ORDER BY Total_Revenue DESC;\"\"\"\n",
    "\n",
    "\n",
    "# Run the query\n",
    "result = pd.read_sql_query(Total_SC, conn)\n",
    "\n",
    "# Show the result\n",
    "print(result)"
   ]
  },
  {
   "cell_type": "markdown",
   "metadata": {},
   "source": [
    "# 2. Customer Behavior"
   ]
  },
  {
   "cell_type": "markdown",
   "metadata": {},
   "source": [
    "## --> Top 5 Customers by Spending <--"
   ]
  },
  {
   "cell_type": "markdown",
   "metadata": {},
   "source": [
    "### Identifies most valuable customers."
   ]
  },
  {
   "cell_type": "code",
   "execution_count": 5,
   "metadata": {},
   "outputs": [
    {
     "name": "stdout",
     "output_type": "stream",
     "text": [
      "      Customer_Name  Total_Spent\n",
      "0       Horst Kloss    117483.39\n",
      "1    Jose Pavarotti    115673.39\n",
      "2     Roland Mendel    113236.68\n",
      "3  Patricia McKenna     57317.39\n",
      "4      Paula Wilson     52245.90\n"
     ]
    }
   ],
   "source": [
    "Top_Customers=\"\"\"SELECT \n",
    "                c.FirstName || ' ' || c.LastName AS Customer_Name,\n",
    "                ROUND(SUM(oi.UnitPrice * oi.Quantity), 2) AS Total_Spent\n",
    "FROM Customer c\n",
    "JOIN \"Order\" o ON c.Id = o.CustomerId\n",
    "JOIN OrderItem oi ON o.Id = oi.OrderId\n",
    "GROUP BY Customer_Name\n",
    "ORDER BY Total_Spent DESC\n",
    "LIMIT 5;\n",
    "\"\"\"\n",
    "\n",
    "\n",
    "# Run the query\n",
    "result = pd.read_sql_query(Top_Customers, conn)\n",
    "\n",
    "# Show the result\n",
    "print(result)"
   ]
  },
  {
   "cell_type": "markdown",
   "metadata": {},
   "source": [
    "## --> Customer Order Frequency <--"
   ]
  },
  {
   "cell_type": "markdown",
   "metadata": {},
   "source": [
    "### Shows how often customers order (loyalty analysis)"
   ]
  },
  {
   "cell_type": "code",
   "execution_count": 6,
   "metadata": {},
   "outputs": [
    {
     "name": "stdout",
     "output_type": "stream",
     "text": [
      "             Customer  Orders_Placed\n",
      "0      Jose Pavarotti             31\n",
      "1       Roland Mendel             30\n",
      "2         Horst Kloss             28\n",
      "3    Patricia McKenna             19\n",
      "4       Maria Larsson             19\n",
      "5        Paula Wilson             18\n",
      "6  Christina Berglund             18\n",
      "7    Carlos Hernández             18\n",
      "8    Laurence Lebihan             17\n",
      "9      Renate Messner             15\n"
     ]
    }
   ],
   "source": [
    "loyalty_Customers=\"\"\"SELECT \n",
    "    c.FirstName || ' ' || c.LastName AS Customer,\n",
    "    COUNT(o.Id) AS Orders_Placed\n",
    "FROM Customer c\n",
    "LEFT JOIN \"Order\" o ON c.Id = o.CustomerId\n",
    "GROUP BY Customer\n",
    "ORDER BY Orders_Placed DESC\n",
    "LIMIT 10;\"\"\"\n",
    "\n",
    "\n",
    "# Run the query\n",
    "result = pd.read_sql_query(loyalty_Customers, conn)\n",
    "\n",
    "# Show the result\n",
    "print(result)"
   ]
  },
  {
   "cell_type": "markdown",
   "metadata": {},
   "source": [
    "# 3. Inventory & Supplier Insights"
   ]
  },
  {
   "cell_type": "markdown",
   "metadata": {},
   "source": [
    "## Least Ordered Products"
   ]
  },
  {
   "cell_type": "code",
   "execution_count": 7,
   "metadata": {},
   "outputs": [
    {
     "name": "stdout",
     "output_type": "stream",
     "text": [
      "       ProductName  Total_Quantity\n",
      "0     Stroopwafels               0\n",
      "1  Mishi Kobe Niku              95\n",
      "2     Genen Shouyu             122\n",
      "3       Gravad lax             125\n",
      "4        Chocolade             138\n"
     ]
    }
   ],
   "source": [
    "Least_Ordered=\"\"\"SELECT \n",
    "    p.ProductName,\n",
    "    COALESCE(SUM(oi.Quantity), 0) AS Total_Quantity\n",
    "FROM Product p\n",
    "LEFT JOIN OrderItem oi ON p.Id = oi.ProductId\n",
    "GROUP BY p.ProductName\n",
    "ORDER BY Total_Quantity ASC\n",
    "LIMIT 5;\n",
    "\"\"\"\n",
    "\n",
    "\n",
    "# Run the query\n",
    "result = pd.read_sql_query(Least_Ordered, conn)\n",
    "\n",
    "# Show the result\n",
    "print(result)"
   ]
  },
  {
   "cell_type": "markdown",
   "metadata": {},
   "source": [
    "## Suppliers with Most Products"
   ]
  },
  {
   "cell_type": "code",
   "execution_count": 8,
   "metadata": {},
   "outputs": [
    {
     "name": "stdout",
     "output_type": "stream",
     "text": [
      "                               CompanyName  Number_Of_Products\n",
      "0        Plutzer Lebensmittelgroßmärkte AG                   5\n",
      "1                            Pavlova, Ltd.                   5\n",
      "2                 Specialty Biscuits, Ltd.                   4\n",
      "3               New Orleans Cajun Delights                   4\n",
      "4                      Zaanse Snoepfabriek                   3\n",
      "5                            Tokyo Traders                   3\n",
      "6                        Svensk Sjöföda AB                   3\n",
      "7                          Norske Meierier                   3\n",
      "8                                 Mayumi's                   3\n",
      "9                             Leka Trading                   3\n",
      "10                               Karkki Oy                   3\n",
      "11             Heli Süßwaren GmbH & Co. KG                   3\n",
      "12               Grandma Kelly's Homestead                   3\n",
      "13                             G'day, Mate                   3\n",
      "14                 Formaggi Fortini s.r.l.                   3\n",
      "15                          Exotic Liquids                   3\n",
      "16                       Bigfoot Breweries                   3\n",
      "17                    Pasta Buttini s.r.l.                   2\n",
      "18                        PB Knäckebröd AB                   2\n",
      "19             New England Seafood Cannery                   2\n",
      "20                               Ma Maison                   2\n",
      "21                              Lyngbysild                   2\n",
      "22                            Gai pâturage                   2\n",
      "23                        Forêts d'érables                   2\n",
      "24      Cooperativa de Quesos 'Las Cabras'                   2\n",
      "25              Aux joyeux ecclésiastiques                   2\n",
      "26               Refrescos Americanas LTDA                   1\n",
      "27  Nord-Ost-Fisch Handelsgesellschaft mbH                   1\n",
      "28                      Escargots Nouveaux                   1\n"
     ]
    }
   ],
   "source": [
    "Most_Products=\"\"\"SELECT \n",
    "    s.CompanyName,\n",
    "    COUNT(p.Id) AS Number_Of_Products\n",
    "FROM Supplier s\n",
    "JOIN Product p ON s.Id = p.SupplierId\n",
    "GROUP BY s.CompanyName\n",
    "ORDER BY Number_Of_Products DESC;\"\"\"\n",
    "\n",
    "\n",
    "# Run the query\n",
    "result = pd.read_sql_query(Most_Products, conn)\n",
    "\n",
    "# Show the result\n",
    "print(result)\n"
   ]
  },
  {
   "cell_type": "markdown",
   "metadata": {},
   "source": [
    "## Discontinued Products"
   ]
  },
  {
   "cell_type": "code",
   "execution_count": 9,
   "metadata": {},
   "outputs": [
    {
     "name": "stdout",
     "output_type": "stream",
     "text": [
      "                     ProductName  IsDiscontinued\n",
      "0         Chef Anton's Gumbo Mix               1\n",
      "1                Mishi Kobe Niku               1\n",
      "2                   Alice Mutton               1\n",
      "3             Guaraná Fantástica               1\n",
      "4              Rössle Sauerkraut               1\n",
      "5        Thüringer Rostbratwurst               1\n",
      "6  Singaporean Hokkien Fried Mee               1\n",
      "7                  Perth Pasties               1\n"
     ]
    }
   ],
   "source": [
    "D_P=\"\"\"SELECT \n",
    "    ProductName,\n",
    "    IsDiscontinued\n",
    "    FROM Product\n",
    "    WHERE IsDiscontinued = 1;\"\"\"\n",
    "result = pd.read_sql_query(D_P, conn)   \n",
    "print(result)"
   ]
  },
  {
   "cell_type": "markdown",
   "metadata": {},
   "source": [
    "# 4. Profitability & Pricing"
   ]
  },
  {
   "cell_type": "markdown",
   "metadata": {},
   "source": [
    "## --> Average Selling Price per Product <--\n"
   ]
  },
  {
   "cell_type": "code",
   "execution_count": 10,
   "metadata": {},
   "outputs": [
    {
     "name": "stdout",
     "output_type": "stream",
     "text": [
      "                        ProductName  Avg_Selling_Price\n",
      "0                      Alice Mutton              36.47\n",
      "1                     Aniseed Syrup               9.50\n",
      "2                  Boston Crab Meat              17.23\n",
      "3                 Camembert Pierrot              32.13\n",
      "4                  Carnarvon Tigers              59.72\n",
      "..                              ...                ...\n",
      "72  Uncle Bob's Organic Dried Pears              29.17\n",
      "73                 Valkoinen suklaa              14.95\n",
      "74                     Vegie-spread              40.79\n",
      "75        Wimmers gute Semmelknödel              31.03\n",
      "76                    Zaanse koeken               9.14\n",
      "\n",
      "[77 rows x 2 columns]\n"
     ]
    }
   ],
   "source": [
    "A_S_P=\"\"\"SELECT \n",
    "       p.ProductName,\n",
    "       ROUND(AVG(oi.UnitPrice), 2) AS Avg_Selling_Price\n",
    "       FROM Product p\n",
    "       JOIN OrderItem oi ON p.Id = oi.ProductId\n",
    "       GROUP BY p.ProductName;\n",
    "\"\"\"\n",
    "result = pd.read_sql_query(A_S_P, conn)   \n",
    "print(result)"
   ]
  },
  {
   "cell_type": "markdown",
   "metadata": {},
   "source": [
    "## --> Total Revenue per Supplier <--"
   ]
  },
  {
   "cell_type": "code",
   "execution_count": 11,
   "metadata": {},
   "outputs": [
    {
     "name": "stdout",
     "output_type": "stream",
     "text": [
      "                               CompanyName  Supplier_Revenue\n",
      "0               Aux joyeux ecclésiastiques         163135.00\n",
      "1        Plutzer Lebensmittelgroßmärkte AG         155946.55\n",
      "2                             Gai pâturage         126582.00\n",
      "3                            Pavlova, Ltd.         115386.05\n",
      "4                              G'day, Mate          69636.60\n",
      "5                         Forêts d'érables          66266.70\n",
      "6                     Pasta Buttini s.r.l.          52929.00\n",
      "7                  Formaggi Fortini s.r.l.          51082.50\n",
      "8                 Specialty Biscuits, Ltd.          48793.80\n",
      "9                          Norske Meierier          46897.20\n",
      "10                            Leka Trading          44935.80\n",
      "11               Grandma Kelly's Homestead          43569.00\n",
      "12             Heli Süßwaren GmbH & Co. KG          40818.00\n",
      "13                          Exotic Liquids          35916.80\n",
      "14                           Tokyo Traders          33533.20\n",
      "15              New Orleans Cajun Delights          33351.95\n",
      "16                               Karkki Oy          29804.00\n",
      "17             New England Seafood Cannery          28146.40\n",
      "18      Cooperativa de Quesos 'Las Cabras'          26768.80\n",
      "19                               Ma Maison          24633.00\n",
      "20                       Bigfoot Breweries          23776.80\n",
      "21                       Svensk Sjöföda AB          21789.80\n",
      "22                                Mayumi's          15678.30\n",
      "23  Nord-Ost-Fisch Handelsgesellschaft mbH          14775.54\n",
      "24                        PB Knäckebröd AB          12072.60\n",
      "25                              Lyngbysild          10884.50\n",
      "26                      Escargots Nouveaux           6664.75\n",
      "27                     Zaanse Snoepfabriek           5901.35\n",
      "28               Refrescos Americanas LTDA           4782.60\n"
     ]
    }
   ],
   "source": [
    "T_R_PS=\"\"\"SELECT \n",
    "    s.CompanyName,\n",
    "    ROUND(SUM(oi.UnitPrice * oi.Quantity), 2) AS Supplier_Revenue\n",
    "FROM Supplier s\n",
    "JOIN Product p ON s.Id = p.SupplierId\n",
    "JOIN OrderItem oi ON p.Id = oi.ProductId\n",
    "GROUP BY s.CompanyName\n",
    "ORDER BY Supplier_Revenue DESC;\n",
    "\"\"\"\n",
    "result = pd.read_sql_query(T_R_PS, conn)   \n",
    "print(result)"
   ]
  },
  {
   "cell_type": "markdown",
   "metadata": {},
   "source": [
    "# 5. Operational Insights"
   ]
  },
  {
   "cell_type": "markdown",
   "metadata": {},
   "source": [
    "## --> Top Customers by Average Order Value (AOV) <--"
   ]
  },
  {
   "cell_type": "code",
   "execution_count": 12,
   "metadata": {},
   "outputs": [
    {
     "name": "stdout",
     "output_type": "stream",
     "text": [
      "           Customer  AvgOrderValue\n",
      "0       Horst Kloss        4195.84\n",
      "1     Roland Mendel        3774.56\n",
      "2    Jose Pavarotti        3731.40\n",
      "3  Patricia McKenna        3016.70\n",
      "4      Paula Wilson        2902.55\n"
     ]
    }
   ],
   "source": [
    "AOV=\"\"\"SELECT \n",
    "    c.FirstName || ' ' || c.LastName AS Customer,\n",
    "    ROUND(AVG(o.TotalAmount), 2) AS AvgOrderValue\n",
    "FROM Customer c\n",
    "JOIN \"Order\" o ON c.Id = o.CustomerId\n",
    "GROUP BY c.Id\n",
    "ORDER BY AvgOrderValue DESC\n",
    "LIMIT 5;\"\"\"\n",
    "result = pd.read_sql_query( AOV, conn)\n",
    "print(result)"
   ]
  },
  {
   "cell_type": "markdown",
   "metadata": {},
   "source": [
    "## --> Most Frequently Ordered Product per Country <--"
   ]
  },
  {
   "cell_type": "code",
   "execution_count": 13,
   "metadata": {},
   "outputs": [
    {
     "name": "stdout",
     "output_type": "stream",
     "text": [
      "       Country                      ProductName  QuantityOrdered\n",
      "0    Argentina                   Queso Cabrales               30\n",
      "1    Argentina           Sir Rodney's Marmalade               20\n",
      "2    Argentina                    Sasquatch Ale               20\n",
      "3    Argentina             Rhönbräu Klosterbier               20\n",
      "4    Argentina                   Ravioli Angelo               20\n",
      "..         ...                              ...              ...\n",
      "931  Venezuela                     Genen Shouyu               20\n",
      "932  Venezuela                         Filo Mix               20\n",
      "933  Venezuela  Uncle Bob's Organic Dried Pears               15\n",
      "934  Venezuela          Thüringer Rostbratwurst               10\n",
      "935  Venezuela                     Gula Malacca               10\n",
      "\n",
      "[936 rows x 3 columns]\n"
     ]
    }
   ],
   "source": [
    "F_PC=\"\"\"SELECT \n",
    "    c.Country,\n",
    "    p.ProductName,\n",
    "    SUM(oi.Quantity) AS QuantityOrdered\n",
    "FROM Customer c\n",
    "JOIN \"Order\" o ON c.Id = o.CustomerId\n",
    "JOIN OrderItem oi ON o.Id = oi.OrderId\n",
    "JOIN Product p ON oi.ProductId = p.Id\n",
    "GROUP BY c.Country, p.ProductName\n",
    "ORDER BY c.Country, QuantityOrdered DESC;\"\"\"\n",
    "result = pd.read_sql_query( F_PC, conn)\n",
    "print(result)"
   ]
  },
  {
   "cell_type": "code",
   "execution_count": 14,
   "metadata": {},
   "outputs": [
    {
     "data": {
      "text/html": [
       "<div>\n",
       "<style scoped>\n",
       "    .dataframe tbody tr th:only-of-type {\n",
       "        vertical-align: middle;\n",
       "    }\n",
       "\n",
       "    .dataframe tbody tr th {\n",
       "        vertical-align: top;\n",
       "    }\n",
       "\n",
       "    .dataframe thead th {\n",
       "        text-align: right;\n",
       "    }\n",
       "</style>\n",
       "<table border=\"1\" class=\"dataframe\">\n",
       "  <thead>\n",
       "    <tr style=\"text-align: right;\">\n",
       "      <th></th>\n",
       "      <th>FirstName</th>\n",
       "      <th>LastName</th>\n",
       "      <th>OrderNumber</th>\n",
       "      <th>TotalAmount</th>\n",
       "      <th>ProductName</th>\n",
       "      <th>UnitPrice</th>\n",
       "      <th>Quantity</th>\n",
       "    </tr>\n",
       "  </thead>\n",
       "  <tbody>\n",
       "    <tr>\n",
       "      <th>0</th>\n",
       "      <td>Jaime</td>\n",
       "      <td>Yorres</td>\n",
       "      <td>542709</td>\n",
       "      <td>317.75</td>\n",
       "      <td>Genen Shouyu</td>\n",
       "      <td>15.50</td>\n",
       "      <td>10</td>\n",
       "    </tr>\n",
       "    <tr>\n",
       "      <th>1</th>\n",
       "      <td>Jaime</td>\n",
       "      <td>Yorres</td>\n",
       "      <td>542709</td>\n",
       "      <td>317.75</td>\n",
       "      <td>Rhönbräu Klosterbier</td>\n",
       "      <td>7.75</td>\n",
       "      <td>21</td>\n",
       "    </tr>\n",
       "    <tr>\n",
       "      <th>2</th>\n",
       "      <td>Jaime</td>\n",
       "      <td>Yorres</td>\n",
       "      <td>542849</td>\n",
       "      <td>1125.67</td>\n",
       "      <td>Carnarvon Tigers</td>\n",
       "      <td>62.50</td>\n",
       "      <td>12</td>\n",
       "    </tr>\n",
       "    <tr>\n",
       "      <th>3</th>\n",
       "      <td>Jaime</td>\n",
       "      <td>Yorres</td>\n",
       "      <td>542849</td>\n",
       "      <td>1125.67</td>\n",
       "      <td>Nord-Ost Matjeshering</td>\n",
       "      <td>25.89</td>\n",
       "      <td>3</td>\n",
       "    </tr>\n",
       "    <tr>\n",
       "      <th>4</th>\n",
       "      <td>Jaime</td>\n",
       "      <td>Yorres</td>\n",
       "      <td>542849</td>\n",
       "      <td>1125.67</td>\n",
       "      <td>Tourtière</td>\n",
       "      <td>7.45</td>\n",
       "      <td>40</td>\n",
       "    </tr>\n",
       "    <tr>\n",
       "      <th>5</th>\n",
       "      <td>Jaime</td>\n",
       "      <td>Yorres</td>\n",
       "      <td>542865</td>\n",
       "      <td>596.00</td>\n",
       "      <td>Sirop d'érable</td>\n",
       "      <td>28.50</td>\n",
       "      <td>20</td>\n",
       "    </tr>\n",
       "    <tr>\n",
       "      <th>6</th>\n",
       "      <td>Jaime</td>\n",
       "      <td>Yorres</td>\n",
       "      <td>542865</td>\n",
       "      <td>596.00</td>\n",
       "      <td>Original Frankfurter grüne Soße</td>\n",
       "      <td>13.00</td>\n",
       "      <td>2</td>\n",
       "    </tr>\n",
       "    <tr>\n",
       "      <th>7</th>\n",
       "      <td>Jaime</td>\n",
       "      <td>Yorres</td>\n",
       "      <td>543014</td>\n",
       "      <td>1450.60</td>\n",
       "      <td>Sir Rodney's Scones</td>\n",
       "      <td>10.00</td>\n",
       "      <td>40</td>\n",
       "    </tr>\n",
       "    <tr>\n",
       "      <th>8</th>\n",
       "      <td>Jaime</td>\n",
       "      <td>Yorres</td>\n",
       "      <td>543014</td>\n",
       "      <td>1450.60</td>\n",
       "      <td>Gnocchi di nonna Alice</td>\n",
       "      <td>38.00</td>\n",
       "      <td>21</td>\n",
       "    </tr>\n",
       "    <tr>\n",
       "      <th>9</th>\n",
       "      <td>Jaime</td>\n",
       "      <td>Yorres</td>\n",
       "      <td>543014</td>\n",
       "      <td>1450.60</td>\n",
       "      <td>Louisiana Fiery Hot Pepper Sauce</td>\n",
       "      <td>21.05</td>\n",
       "      <td>12</td>\n",
       "    </tr>\n",
       "  </tbody>\n",
       "</table>\n",
       "</div>"
      ],
      "text/plain": [
       "  FirstName LastName OrderNumber  TotalAmount  \\\n",
       "0     Jaime   Yorres      542709       317.75   \n",
       "1     Jaime   Yorres      542709       317.75   \n",
       "2     Jaime   Yorres      542849      1125.67   \n",
       "3     Jaime   Yorres      542849      1125.67   \n",
       "4     Jaime   Yorres      542849      1125.67   \n",
       "5     Jaime   Yorres      542865       596.00   \n",
       "6     Jaime   Yorres      542865       596.00   \n",
       "7     Jaime   Yorres      543014      1450.60   \n",
       "8     Jaime   Yorres      543014      1450.60   \n",
       "9     Jaime   Yorres      543014      1450.60   \n",
       "\n",
       "                        ProductName  UnitPrice  Quantity  \n",
       "0                      Genen Shouyu      15.50        10  \n",
       "1              Rhönbräu Klosterbier       7.75        21  \n",
       "2                  Carnarvon Tigers      62.50        12  \n",
       "3             Nord-Ost Matjeshering      25.89         3  \n",
       "4                         Tourtière       7.45        40  \n",
       "5                    Sirop d'érable      28.50        20  \n",
       "6   Original Frankfurter grüne Soße      13.00         2  \n",
       "7               Sir Rodney's Scones      10.00        40  \n",
       "8            Gnocchi di nonna Alice      38.00        21  \n",
       "9  Louisiana Fiery Hot Pepper Sauce      21.05        12  "
      ]
     },
     "execution_count": 14,
     "metadata": {},
     "output_type": "execute_result"
    }
   ],
   "source": [
    "\n",
    "UserInput = input(\"Select Customer for order report: \")\n",
    "SQL = '''SELECT FirstName, LastName, OrderNumber, TotalAmount, ProductName, OI.UnitPrice, Quantity\n",
    "        FROM Customer as C,Product as P, [Order] as O,OrderItem as OI\n",
    "         WHERE O.Id = OI.OrderId\n",
    "         AND C.Id = O.CustomerId\n",
    "         AND P.Id = OI.ProductId\n",
    "         AND C.Id = ?'''\n",
    "DF= pd.read_sql_query(SQL, conn, params = (UserInput,))\n",
    "DF\n"
   ]
  },
  {
   "cell_type": "code",
   "execution_count": 15,
   "metadata": {},
   "outputs": [
    {
     "name": "stdout",
     "output_type": "stream",
     "text": [
      "('CREATE TABLE Customer \\n   (Id                   INTEGER PRIMARY KEY,\\n   FirstName            TEXT    NOT NULL,\\n   LastName             TEXT    NOT NULL,\\n   City                 TEXT,\\n   Country              TEXT,\\n   Phone                TEXT)',)\n",
      "('CREATE TABLE Supplier (\\n   Id                   INTEGER PRIMARY KEY,\\n   CompanyName          TEXT    NOT NULL,\\n   ContactName          TEXT,\\n   ContactTitle         TEXT,\\n   City                 TEXT,\\n   Country              TEXT,\\n   Phone                TEXT,\\n   Fax                  TEXT)',)\n",
      "('CREATE TABLE Product (\\n   Id                   INTEGER PRIMARY KEY,\\n   ProductName          TEXT    NOT NULL,\\n   SupplierId           INTEGER NOT NULL,\\n   UnitPrice            REAL NOT NULL DEFAULT 0,\\n   Package              TEXT,\\n   IsDiscontinued       INTEGER NOT NULL DEFAULT 0,\\n   FOREIGN KEY (SupplierId)\\n    REFERENCES Supplier (Id))',)\n",
      "('CREATE TABLE \"Order\" (\\n   Id                   INTEGER PRIMARY KEY,\\n   OrderDate            TEXT    NOT NULL,\\n   OrderNumber          TEXT,\\n   CustomerId           INTEGER NOT NULL,\\n   TotalAmount          REAL DEFAULT 0,\\n   FOREIGN KEY (CustomerId)\\n    REFERENCES Customer (Id) )',)\n",
      "('CREATE TABLE OrderItem (\\n   Id                   INTEGER PRIMARY KEY,\\n   OrderId              INTEGER NOT NULL,\\n   ProductId            INTEGER NOT NULL,\\n   UnitPrice            REAL NOT NULL DEFAULT 0,\\n   Quantity             INTEGER NOT NULL DEFAULT 1,\\n    FOREIGN KEY (OrderId)\\n    REFERENCES \"Order\" (Id),\\n    FOREIGN KEY (ProductId)\\n    REFERENCES Product (Id))',)\n",
      "('CREATE TABLE Authors\\n         (AuthorID INTEGER PRIMARY KEY AUTOINCREMENT,\\n         Name TEXT NOT NULL,\\n         Surname TEXT NOT NULL)',)\n",
      "('CREATE TABLE sqlite_sequence(name,seq)',)\n"
     ]
    }
   ],
   "source": [
    "cursor = conn.cursor()\n",
    "for row in cursor.execute( '''SELECT sql FROM sqlite_master WHERE type = \"table\"''' ):\n",
    "    print(row)\n",
    "cursor.close()"
   ]
  },
  {
   "cell_type": "code",
   "execution_count": 16,
   "metadata": {},
   "outputs": [
    {
     "data": {
      "text/html": [
       "<div>\n",
       "<style scoped>\n",
       "    .dataframe tbody tr th:only-of-type {\n",
       "        vertical-align: middle;\n",
       "    }\n",
       "\n",
       "    .dataframe tbody tr th {\n",
       "        vertical-align: top;\n",
       "    }\n",
       "\n",
       "    .dataframe thead th {\n",
       "        text-align: right;\n",
       "    }\n",
       "</style>\n",
       "<table border=\"1\" class=\"dataframe\">\n",
       "  <thead>\n",
       "    <tr style=\"text-align: right;\">\n",
       "      <th></th>\n",
       "      <th>cid</th>\n",
       "      <th>name</th>\n",
       "      <th>type</th>\n",
       "      <th>notnull</th>\n",
       "      <th>dflt_value</th>\n",
       "      <th>pk</th>\n",
       "    </tr>\n",
       "  </thead>\n",
       "  <tbody>\n",
       "    <tr>\n",
       "      <th>0</th>\n",
       "      <td>0</td>\n",
       "      <td>Id</td>\n",
       "      <td>INTEGER</td>\n",
       "      <td>0</td>\n",
       "      <td>None</td>\n",
       "      <td>1</td>\n",
       "    </tr>\n",
       "    <tr>\n",
       "      <th>1</th>\n",
       "      <td>1</td>\n",
       "      <td>CompanyName</td>\n",
       "      <td>TEXT</td>\n",
       "      <td>1</td>\n",
       "      <td>None</td>\n",
       "      <td>0</td>\n",
       "    </tr>\n",
       "    <tr>\n",
       "      <th>2</th>\n",
       "      <td>2</td>\n",
       "      <td>ContactName</td>\n",
       "      <td>TEXT</td>\n",
       "      <td>0</td>\n",
       "      <td>None</td>\n",
       "      <td>0</td>\n",
       "    </tr>\n",
       "    <tr>\n",
       "      <th>3</th>\n",
       "      <td>3</td>\n",
       "      <td>ContactTitle</td>\n",
       "      <td>TEXT</td>\n",
       "      <td>0</td>\n",
       "      <td>None</td>\n",
       "      <td>0</td>\n",
       "    </tr>\n",
       "    <tr>\n",
       "      <th>4</th>\n",
       "      <td>4</td>\n",
       "      <td>City</td>\n",
       "      <td>TEXT</td>\n",
       "      <td>0</td>\n",
       "      <td>None</td>\n",
       "      <td>0</td>\n",
       "    </tr>\n",
       "    <tr>\n",
       "      <th>5</th>\n",
       "      <td>5</td>\n",
       "      <td>Country</td>\n",
       "      <td>TEXT</td>\n",
       "      <td>0</td>\n",
       "      <td>None</td>\n",
       "      <td>0</td>\n",
       "    </tr>\n",
       "    <tr>\n",
       "      <th>6</th>\n",
       "      <td>6</td>\n",
       "      <td>Phone</td>\n",
       "      <td>TEXT</td>\n",
       "      <td>0</td>\n",
       "      <td>None</td>\n",
       "      <td>0</td>\n",
       "    </tr>\n",
       "    <tr>\n",
       "      <th>7</th>\n",
       "      <td>7</td>\n",
       "      <td>Fax</td>\n",
       "      <td>TEXT</td>\n",
       "      <td>0</td>\n",
       "      <td>None</td>\n",
       "      <td>0</td>\n",
       "    </tr>\n",
       "  </tbody>\n",
       "</table>\n",
       "</div>"
      ],
      "text/plain": [
       "   cid          name     type  notnull dflt_value  pk\n",
       "0    0            Id  INTEGER        0       None   1\n",
       "1    1   CompanyName     TEXT        1       None   0\n",
       "2    2   ContactName     TEXT        0       None   0\n",
       "3    3  ContactTitle     TEXT        0       None   0\n",
       "4    4          City     TEXT        0       None   0\n",
       "5    5       Country     TEXT        0       None   0\n",
       "6    6         Phone     TEXT        0       None   0\n",
       "7    7           Fax     TEXT        0       None   0"
      ]
     },
     "execution_count": 16,
     "metadata": {},
     "output_type": "execute_result"
    }
   ],
   "source": [
    "cursor = conn.cursor()\n",
    "cursor.execute( \"PRAGMA table_info('Supplier')\" )\n",
    "names = [ x[0] for x in cursor.description]\n",
    "rows = cursor.fetchall()\n",
    "df = pd.DataFrame( rows, columns=names)\n",
    "df"
   ]
  },
  {
   "cell_type": "markdown",
   "metadata": {},
   "source": [
    "## Task\n",
    "\n",
    "# Determine what types of data are stored in each column of the dataframe.\n"
   ]
  },
  {
   "cell_type": "code",
   "execution_count": 17,
   "metadata": {},
   "outputs": [
    {
     "name": "stdout",
     "output_type": "stream",
     "text": [
      "FirstName       object\n",
      "LastName        object\n",
      "OrderNumber     object\n",
      "TotalAmount    float64\n",
      "ProductName     object\n",
      "UnitPrice      float64\n",
      "Quantity         int64\n",
      "dtype: object\n"
     ]
    }
   ],
   "source": [
    "print(DF.dtypes)"
   ]
  },
  {
   "cell_type": "code",
   "execution_count": 18,
   "metadata": {},
   "outputs": [
    {
     "name": "stdout",
     "output_type": "stream",
     "text": [
      "<class 'pandas.core.frame.DataFrame'>\n",
      "RangeIndex: 10 entries, 0 to 9\n",
      "Data columns (total 7 columns):\n",
      " #   Column       Non-Null Count  Dtype  \n",
      "---  ------       --------------  -----  \n",
      " 0   FirstName    10 non-null     object \n",
      " 1   LastName     10 non-null     object \n",
      " 2   OrderNumber  10 non-null     object \n",
      " 3   TotalAmount  10 non-null     float64\n",
      " 4   ProductName  10 non-null     object \n",
      " 5   UnitPrice    10 non-null     float64\n",
      " 6   Quantity     10 non-null     int64  \n",
      "dtypes: float64(2), int64(1), object(4)\n",
      "memory usage: 692.0+ bytes\n"
     ]
    }
   ],
   "source": [
    "DF.info()"
   ]
  },
  {
   "attachments": {},
   "cell_type": "markdown",
   "metadata": {},
   "source": [
    "# Determine how many rows there are in the dataframe: \n"
   ]
  },
  {
   "cell_type": "code",
   "execution_count": 19,
   "metadata": {},
   "outputs": [
    {
     "name": "stdout",
     "output_type": "stream",
     "text": [
      "The DataFrame has 10 rows.\n"
     ]
    }
   ],
   "source": [
    "num_rows = DF.shape[0]\n",
    "\n",
    "print(f\"The DataFrame has {num_rows} rows.\")"
   ]
  },
  {
   "cell_type": "markdown",
   "metadata": {},
   "source": [
    "# Check to see whether the user of your choice has ever bought coffee, pavlova or hot pepper sauce. Print appropriate messages if they have or have not been purchased."
   ]
  },
  {
   "cell_type": "code",
   "execution_count": 20,
   "metadata": {},
   "outputs": [
    {
     "name": "stdout",
     "output_type": "stream",
     "text": [
      "No he didi not drink \n"
     ]
    }
   ],
   "source": [
    "if'Pavlova' in DF['ProductName'].values:\n",
    "    print('Yes he drank coffe Pavlova')\n",
    "else:\n",
    "    print(\"No he didi not drink \")\n"
   ]
  },
  {
   "cell_type": "code",
   "execution_count": 21,
   "metadata": {},
   "outputs": [
    {
     "name": "stdout",
     "output_type": "stream",
     "text": [
      "No he didi not drink \n"
     ]
    }
   ],
   "source": [
    "if'Hot pepper sauce' in DF['ProductName'].values:\n",
    "    print('Yes he drank coffe Pavlova')\n",
    "else:\n",
    "    print(\"No he didi not drink \")"
   ]
  },
  {
   "cell_type": "markdown",
   "metadata": {},
   "source": [
    "# Count how many order lines included the purchases of Nord-Ost Matjeshering or  Carnarvon Tigers. Display a tally of each."
   ]
  },
  {
   "cell_type": "code",
   "execution_count": 22,
   "metadata": {},
   "outputs": [
    {
     "data": {
      "text/plain": [
       "ProductName\n",
       "Genen Shouyu                        1\n",
       "Rhönbräu Klosterbier                1\n",
       "Carnarvon Tigers                    1\n",
       "Nord-Ost Matjeshering               1\n",
       "Tourtière                           1\n",
       "Sirop d'érable                      1\n",
       "Original Frankfurter grüne Soße     1\n",
       "Sir Rodney's Scones                 1\n",
       "Gnocchi di nonna Alice              1\n",
       "Louisiana Fiery Hot Pepper Sauce    1\n",
       "Name: count, dtype: int64"
      ]
     },
     "execution_count": 22,
     "metadata": {},
     "output_type": "execute_result"
    }
   ],
   "source": [
    "OrderNordOstdf= DF['ProductName'].value_counts()\n",
    "OrderNordOstdf"
   ]
  },
  {
   "cell_type": "code",
   "execution_count": 23,
   "metadata": {},
   "outputs": [
    {
     "name": "stdout",
     "output_type": "stream",
     "text": [
      "Nord-Ost Matjeshering was purchased in 1 order lines.\n",
      "Carnarvon Tigers was purchased in 1 order lines.\n"
     ]
    }
   ],
   "source": [
    "product_counts = DF['ProductName'].value_counts()\n",
    "nordost_count = product_counts.get('Nord-Ost Matjeshering', 0)\n",
    "carnarvon_count = product_counts.get('Carnarvon Tigers', 0)\n",
    "\n",
    "print(f\"Nord-Ost Matjeshering was purchased in {nordost_count} order lines.\")\n",
    "print(f\"Carnarvon Tigers was purchased in {carnarvon_count} order lines.\")"
   ]
  },
  {
   "cell_type": "markdown",
   "metadata": {},
   "source": [
    "# Display the three products with the least overall orders in terms of quantity."
   ]
  },
  {
   "cell_type": "code",
   "execution_count": 24,
   "metadata": {},
   "outputs": [
    {
     "name": "stdout",
     "output_type": "stream",
     "text": [
      "   ProductId      ProductName  Total_Quantity_Ordered\n",
      "0         78     Stroopwafels                       0\n",
      "1          9  Mishi Kobe Niku                      95\n",
      "2         15     Genen Shouyu                     122\n"
     ]
    }
   ],
   "source": [
    "# Query: least ordered 3 products\n",
    "least_three_sql = \"\"\"\n",
    "SELECT \n",
    "    p.Id AS ProductId,\n",
    "    p.ProductName,\n",
    "    COALESCE(SUM(oi.Quantity), 0) AS Total_Quantity_Ordered\n",
    "FROM Product AS p\n",
    "LEFT JOIN OrderItem AS oi\n",
    "    ON p.Id = oi.ProductId\n",
    "GROUP BY p.Id, p.ProductName\n",
    "ORDER BY Total_Quantity_Ordered ASC\n",
    "LIMIT 3;\n",
    "\"\"\"\n",
    "\n",
    "least_three = pd.read_sql_query(least_three_sql, conn)\n",
    "\n",
    "\n",
    "print(least_three)"
   ]
  },
  {
   "cell_type": "markdown",
   "metadata": {},
   "source": [
    "# Display all orderlines that had a unit price of less that 22.00 and a Total cost of more than 260.00."
   ]
  },
  {
   "cell_type": "code",
   "execution_count": 25,
   "metadata": {},
   "outputs": [
    {
     "name": "stdout",
     "output_type": "stream",
     "text": [
      "Order lines with a unit price of less than 22.00 and a total cost of more than 260.00:\n"
     ]
    },
    {
     "data": {
      "text/html": [
       "<div>\n",
       "<style scoped>\n",
       "    .dataframe tbody tr th:only-of-type {\n",
       "        vertical-align: middle;\n",
       "    }\n",
       "\n",
       "    .dataframe tbody tr th {\n",
       "        vertical-align: top;\n",
       "    }\n",
       "\n",
       "    .dataframe thead th {\n",
       "        text-align: right;\n",
       "    }\n",
       "</style>\n",
       "<table border=\"1\" class=\"dataframe\">\n",
       "  <thead>\n",
       "    <tr style=\"text-align: right;\">\n",
       "      <th></th>\n",
       "      <th>FirstName</th>\n",
       "      <th>LastName</th>\n",
       "      <th>OrderNumber</th>\n",
       "      <th>TotalAmount</th>\n",
       "      <th>ProductName</th>\n",
       "      <th>UnitPrice</th>\n",
       "      <th>Quantity</th>\n",
       "      <th>TotalCost</th>\n",
       "    </tr>\n",
       "  </thead>\n",
       "  <tbody>\n",
       "    <tr>\n",
       "      <th>4</th>\n",
       "      <td>Jaime</td>\n",
       "      <td>Yorres</td>\n",
       "      <td>542849</td>\n",
       "      <td>1125.67</td>\n",
       "      <td>Tourtière</td>\n",
       "      <td>7.45</td>\n",
       "      <td>40</td>\n",
       "      <td>298.0</td>\n",
       "    </tr>\n",
       "    <tr>\n",
       "      <th>7</th>\n",
       "      <td>Jaime</td>\n",
       "      <td>Yorres</td>\n",
       "      <td>543014</td>\n",
       "      <td>1450.60</td>\n",
       "      <td>Sir Rodney's Scones</td>\n",
       "      <td>10.00</td>\n",
       "      <td>40</td>\n",
       "      <td>400.0</td>\n",
       "    </tr>\n",
       "  </tbody>\n",
       "</table>\n",
       "</div>"
      ],
      "text/plain": [
       "  FirstName LastName OrderNumber  TotalAmount          ProductName  UnitPrice  \\\n",
       "4     Jaime   Yorres      542849      1125.67            Tourtière       7.45   \n",
       "7     Jaime   Yorres      543014      1450.60  Sir Rodney's Scones      10.00   \n",
       "\n",
       "   Quantity  TotalCost  \n",
       "4        40      298.0  \n",
       "7        40      400.0  "
      ]
     },
     "execution_count": 25,
     "metadata": {},
     "output_type": "execute_result"
    }
   ],
   "source": [
    "DF['TotalCost'] = DF['UnitPrice'] * DF['Quantity']\n",
    "\n",
    "filtered_df = DF[(DF['UnitPrice'] < 22) & (DF['TotalCost'] > 260)]\n",
    "\n",
    "print(\"Order lines with a unit price of less than 22.00 and a total cost of more than 260.00:\")\n",
    "filtered_df"
   ]
  },
  {
   "cell_type": "code",
   "execution_count": 26,
   "metadata": {},
   "outputs": [
    {
     "name": "stderr",
     "output_type": "stream",
     "text": [
      "C:\\Users\\alexa\\AppData\\Local\\Temp\\ipykernel_34212\\985464893.py:19: FutureWarning: Styler.applymap has been deprecated. Use Styler.map instead.\n",
      "  DFnewdf = DF.style.applymap(color_magic, subset = ['TotalCost'])\n"
     ]
    },
    {
     "data": {
      "text/html": [
       "<style type=\"text/css\">\n",
       "#T_defbe_row0_col7, #T_defbe_row1_col7, #T_defbe_row3_col7, #T_defbe_row4_col7, #T_defbe_row5_col7, #T_defbe_row6_col7, #T_defbe_row7_col7, #T_defbe_row9_col7 {\n",
       "  color: red;\n",
       "}\n",
       "#T_defbe_row2_col7, #T_defbe_row8_col7 {\n",
       "  color: green;\n",
       "}\n",
       "</style>\n",
       "<table id=\"T_defbe\">\n",
       "  <thead>\n",
       "    <tr>\n",
       "      <th class=\"blank level0\" >&nbsp;</th>\n",
       "      <th id=\"T_defbe_level0_col0\" class=\"col_heading level0 col0\" >FirstName</th>\n",
       "      <th id=\"T_defbe_level0_col1\" class=\"col_heading level0 col1\" >LastName</th>\n",
       "      <th id=\"T_defbe_level0_col2\" class=\"col_heading level0 col2\" >OrderNumber</th>\n",
       "      <th id=\"T_defbe_level0_col3\" class=\"col_heading level0 col3\" >TotalAmount</th>\n",
       "      <th id=\"T_defbe_level0_col4\" class=\"col_heading level0 col4\" >ProductName</th>\n",
       "      <th id=\"T_defbe_level0_col5\" class=\"col_heading level0 col5\" >UnitPrice</th>\n",
       "      <th id=\"T_defbe_level0_col6\" class=\"col_heading level0 col6\" >Quantity</th>\n",
       "      <th id=\"T_defbe_level0_col7\" class=\"col_heading level0 col7\" >TotalCost</th>\n",
       "    </tr>\n",
       "  </thead>\n",
       "  <tbody>\n",
       "    <tr>\n",
       "      <th id=\"T_defbe_level0_row0\" class=\"row_heading level0 row0\" >0</th>\n",
       "      <td id=\"T_defbe_row0_col0\" class=\"data row0 col0\" >Jaime</td>\n",
       "      <td id=\"T_defbe_row0_col1\" class=\"data row0 col1\" >Yorres</td>\n",
       "      <td id=\"T_defbe_row0_col2\" class=\"data row0 col2\" >542709</td>\n",
       "      <td id=\"T_defbe_row0_col3\" class=\"data row0 col3\" >317.750000</td>\n",
       "      <td id=\"T_defbe_row0_col4\" class=\"data row0 col4\" >Genen Shouyu</td>\n",
       "      <td id=\"T_defbe_row0_col5\" class=\"data row0 col5\" >15.500000</td>\n",
       "      <td id=\"T_defbe_row0_col6\" class=\"data row0 col6\" >10</td>\n",
       "      <td id=\"T_defbe_row0_col7\" class=\"data row0 col7\" >155.000000</td>\n",
       "    </tr>\n",
       "    <tr>\n",
       "      <th id=\"T_defbe_level0_row1\" class=\"row_heading level0 row1\" >1</th>\n",
       "      <td id=\"T_defbe_row1_col0\" class=\"data row1 col0\" >Jaime</td>\n",
       "      <td id=\"T_defbe_row1_col1\" class=\"data row1 col1\" >Yorres</td>\n",
       "      <td id=\"T_defbe_row1_col2\" class=\"data row1 col2\" >542709</td>\n",
       "      <td id=\"T_defbe_row1_col3\" class=\"data row1 col3\" >317.750000</td>\n",
       "      <td id=\"T_defbe_row1_col4\" class=\"data row1 col4\" >Rhönbräu Klosterbier</td>\n",
       "      <td id=\"T_defbe_row1_col5\" class=\"data row1 col5\" >7.750000</td>\n",
       "      <td id=\"T_defbe_row1_col6\" class=\"data row1 col6\" >21</td>\n",
       "      <td id=\"T_defbe_row1_col7\" class=\"data row1 col7\" >162.750000</td>\n",
       "    </tr>\n",
       "    <tr>\n",
       "      <th id=\"T_defbe_level0_row2\" class=\"row_heading level0 row2\" >2</th>\n",
       "      <td id=\"T_defbe_row2_col0\" class=\"data row2 col0\" >Jaime</td>\n",
       "      <td id=\"T_defbe_row2_col1\" class=\"data row2 col1\" >Yorres</td>\n",
       "      <td id=\"T_defbe_row2_col2\" class=\"data row2 col2\" >542849</td>\n",
       "      <td id=\"T_defbe_row2_col3\" class=\"data row2 col3\" >1125.670000</td>\n",
       "      <td id=\"T_defbe_row2_col4\" class=\"data row2 col4\" >Carnarvon Tigers</td>\n",
       "      <td id=\"T_defbe_row2_col5\" class=\"data row2 col5\" >62.500000</td>\n",
       "      <td id=\"T_defbe_row2_col6\" class=\"data row2 col6\" >12</td>\n",
       "      <td id=\"T_defbe_row2_col7\" class=\"data row2 col7\" >750.000000</td>\n",
       "    </tr>\n",
       "    <tr>\n",
       "      <th id=\"T_defbe_level0_row3\" class=\"row_heading level0 row3\" >3</th>\n",
       "      <td id=\"T_defbe_row3_col0\" class=\"data row3 col0\" >Jaime</td>\n",
       "      <td id=\"T_defbe_row3_col1\" class=\"data row3 col1\" >Yorres</td>\n",
       "      <td id=\"T_defbe_row3_col2\" class=\"data row3 col2\" >542849</td>\n",
       "      <td id=\"T_defbe_row3_col3\" class=\"data row3 col3\" >1125.670000</td>\n",
       "      <td id=\"T_defbe_row3_col4\" class=\"data row3 col4\" >Nord-Ost Matjeshering</td>\n",
       "      <td id=\"T_defbe_row3_col5\" class=\"data row3 col5\" >25.890000</td>\n",
       "      <td id=\"T_defbe_row3_col6\" class=\"data row3 col6\" >3</td>\n",
       "      <td id=\"T_defbe_row3_col7\" class=\"data row3 col7\" >77.670000</td>\n",
       "    </tr>\n",
       "    <tr>\n",
       "      <th id=\"T_defbe_level0_row4\" class=\"row_heading level0 row4\" >4</th>\n",
       "      <td id=\"T_defbe_row4_col0\" class=\"data row4 col0\" >Jaime</td>\n",
       "      <td id=\"T_defbe_row4_col1\" class=\"data row4 col1\" >Yorres</td>\n",
       "      <td id=\"T_defbe_row4_col2\" class=\"data row4 col2\" >542849</td>\n",
       "      <td id=\"T_defbe_row4_col3\" class=\"data row4 col3\" >1125.670000</td>\n",
       "      <td id=\"T_defbe_row4_col4\" class=\"data row4 col4\" >Tourtière</td>\n",
       "      <td id=\"T_defbe_row4_col5\" class=\"data row4 col5\" >7.450000</td>\n",
       "      <td id=\"T_defbe_row4_col6\" class=\"data row4 col6\" >40</td>\n",
       "      <td id=\"T_defbe_row4_col7\" class=\"data row4 col7\" >298.000000</td>\n",
       "    </tr>\n",
       "    <tr>\n",
       "      <th id=\"T_defbe_level0_row5\" class=\"row_heading level0 row5\" >5</th>\n",
       "      <td id=\"T_defbe_row5_col0\" class=\"data row5 col0\" >Jaime</td>\n",
       "      <td id=\"T_defbe_row5_col1\" class=\"data row5 col1\" >Yorres</td>\n",
       "      <td id=\"T_defbe_row5_col2\" class=\"data row5 col2\" >542865</td>\n",
       "      <td id=\"T_defbe_row5_col3\" class=\"data row5 col3\" >596.000000</td>\n",
       "      <td id=\"T_defbe_row5_col4\" class=\"data row5 col4\" >Sirop d'érable</td>\n",
       "      <td id=\"T_defbe_row5_col5\" class=\"data row5 col5\" >28.500000</td>\n",
       "      <td id=\"T_defbe_row5_col6\" class=\"data row5 col6\" >20</td>\n",
       "      <td id=\"T_defbe_row5_col7\" class=\"data row5 col7\" >570.000000</td>\n",
       "    </tr>\n",
       "    <tr>\n",
       "      <th id=\"T_defbe_level0_row6\" class=\"row_heading level0 row6\" >6</th>\n",
       "      <td id=\"T_defbe_row6_col0\" class=\"data row6 col0\" >Jaime</td>\n",
       "      <td id=\"T_defbe_row6_col1\" class=\"data row6 col1\" >Yorres</td>\n",
       "      <td id=\"T_defbe_row6_col2\" class=\"data row6 col2\" >542865</td>\n",
       "      <td id=\"T_defbe_row6_col3\" class=\"data row6 col3\" >596.000000</td>\n",
       "      <td id=\"T_defbe_row6_col4\" class=\"data row6 col4\" >Original Frankfurter grüne Soße</td>\n",
       "      <td id=\"T_defbe_row6_col5\" class=\"data row6 col5\" >13.000000</td>\n",
       "      <td id=\"T_defbe_row6_col6\" class=\"data row6 col6\" >2</td>\n",
       "      <td id=\"T_defbe_row6_col7\" class=\"data row6 col7\" >26.000000</td>\n",
       "    </tr>\n",
       "    <tr>\n",
       "      <th id=\"T_defbe_level0_row7\" class=\"row_heading level0 row7\" >7</th>\n",
       "      <td id=\"T_defbe_row7_col0\" class=\"data row7 col0\" >Jaime</td>\n",
       "      <td id=\"T_defbe_row7_col1\" class=\"data row7 col1\" >Yorres</td>\n",
       "      <td id=\"T_defbe_row7_col2\" class=\"data row7 col2\" >543014</td>\n",
       "      <td id=\"T_defbe_row7_col3\" class=\"data row7 col3\" >1450.600000</td>\n",
       "      <td id=\"T_defbe_row7_col4\" class=\"data row7 col4\" >Sir Rodney's Scones</td>\n",
       "      <td id=\"T_defbe_row7_col5\" class=\"data row7 col5\" >10.000000</td>\n",
       "      <td id=\"T_defbe_row7_col6\" class=\"data row7 col6\" >40</td>\n",
       "      <td id=\"T_defbe_row7_col7\" class=\"data row7 col7\" >400.000000</td>\n",
       "    </tr>\n",
       "    <tr>\n",
       "      <th id=\"T_defbe_level0_row8\" class=\"row_heading level0 row8\" >8</th>\n",
       "      <td id=\"T_defbe_row8_col0\" class=\"data row8 col0\" >Jaime</td>\n",
       "      <td id=\"T_defbe_row8_col1\" class=\"data row8 col1\" >Yorres</td>\n",
       "      <td id=\"T_defbe_row8_col2\" class=\"data row8 col2\" >543014</td>\n",
       "      <td id=\"T_defbe_row8_col3\" class=\"data row8 col3\" >1450.600000</td>\n",
       "      <td id=\"T_defbe_row8_col4\" class=\"data row8 col4\" >Gnocchi di nonna Alice</td>\n",
       "      <td id=\"T_defbe_row8_col5\" class=\"data row8 col5\" >38.000000</td>\n",
       "      <td id=\"T_defbe_row8_col6\" class=\"data row8 col6\" >21</td>\n",
       "      <td id=\"T_defbe_row8_col7\" class=\"data row8 col7\" >798.000000</td>\n",
       "    </tr>\n",
       "    <tr>\n",
       "      <th id=\"T_defbe_level0_row9\" class=\"row_heading level0 row9\" >9</th>\n",
       "      <td id=\"T_defbe_row9_col0\" class=\"data row9 col0\" >Jaime</td>\n",
       "      <td id=\"T_defbe_row9_col1\" class=\"data row9 col1\" >Yorres</td>\n",
       "      <td id=\"T_defbe_row9_col2\" class=\"data row9 col2\" >543014</td>\n",
       "      <td id=\"T_defbe_row9_col3\" class=\"data row9 col3\" >1450.600000</td>\n",
       "      <td id=\"T_defbe_row9_col4\" class=\"data row9 col4\" >Louisiana Fiery Hot Pepper Sauce</td>\n",
       "      <td id=\"T_defbe_row9_col5\" class=\"data row9 col5\" >21.050000</td>\n",
       "      <td id=\"T_defbe_row9_col6\" class=\"data row9 col6\" >12</td>\n",
       "      <td id=\"T_defbe_row9_col7\" class=\"data row9 col7\" >252.600000</td>\n",
       "    </tr>\n",
       "  </tbody>\n",
       "</table>\n"
      ],
      "text/plain": [
       "<pandas.io.formats.style.Styler at 0x214ffde9950>"
      ]
     },
     "execution_count": 26,
     "metadata": {},
     "output_type": "execute_result"
    }
   ],
   "source": [
    "def color_magic(filtered_df):\n",
    "  \"\"\"\n",
    "  Colors elements in a dateframe\n",
    "  green if positive and red if\n",
    "  negative. Does not color NaN\n",
    "  values.\n",
    "  \"\"\"\n",
    "\n",
    "  if filtered_df < 600:\n",
    "    color = 'red'\n",
    "  elif filtered_df > 400:\n",
    "    color = 'green'\n",
    "  else:\n",
    "    color = 'black'\n",
    "\n",
    "  return 'color: %s' % color\n",
    "\n",
    "\n",
    "DFnewdf = DF.style.applymap(color_magic, subset = ['TotalCost'])\n",
    "DFnewdf"
   ]
  },
  {
   "cell_type": "code",
   "execution_count": 27,
   "metadata": {},
   "outputs": [
    {
     "data": {
      "image/png": "[encoded data removed]",
      "text/plain": [
       "<Figure size 640x480 with 1 Axes>"
      ]
     },
     "metadata": {},
     "output_type": "display_data"
    }
   ],
   "source": [
    "import matplotlib.pyplot as plt\n",
    "\n",
    "# Create a histogram of the unit prices\n",
    "plt.hist(DF['TotalCost'], bins=20)\n",
    "plt.xlabel('UnitPrice')\n",
    "plt.ylabel('Quantity')\n",
    "plt.show()"
   ]
  },
  {
   "cell_type": "markdown",
   "metadata": {},
   "source": [
    "## Filtering data with Pandas .query() method\n",
    "Analyzing data requires a lot of filtering operations. Pandas provide many methods to filter a Data frame and Dataframe.query() is one of them.\n",
    "~~~~\n",
    "Syntax: DataFrame.query(expr, inplace=False, **kwargs)\n",
    "~~~~\n",
    "\n",
    "Parameters:\n",
    "expr: Expression in string form to filter data.\n",
    "inplace: Make changes in the original data frame if True\n",
    "kwargs: Other keyword arguments.\n",
    "\n",
    "Return type: Filtered Data frame\n",
    "\n",
    "Examples will be included in a future lesson."
   ]
  },
  {
   "cell_type": "markdown",
   "metadata": {},
   "source": [
    "# Using the .query method to replicate the previos questions result."
   ]
  },
  {
   "cell_type": "markdown",
   "metadata": {},
   "source": [
    "# Style all currency columns to include a Currency symbol\n"
   ]
  },
  {
   "cell_type": "code",
   "execution_count": 28,
   "metadata": {},
   "outputs": [
    {
     "data": {
      "text/html": [
       "<style type=\"text/css\">\n",
       "</style>\n",
       "<table id=\"T_f1845\">\n",
       "  <thead>\n",
       "    <tr>\n",
       "      <th id=\"T_f1845_level0_col0\" class=\"col_heading level0 col0\" >FirstName</th>\n",
       "      <th id=\"T_f1845_level0_col1\" class=\"col_heading level0 col1\" >LastName</th>\n",
       "      <th id=\"T_f1845_level0_col2\" class=\"col_heading level0 col2\" >OrderNumber</th>\n",
       "      <th id=\"T_f1845_level0_col3\" class=\"col_heading level0 col3\" >TotalAmount</th>\n",
       "      <th id=\"T_f1845_level0_col4\" class=\"col_heading level0 col4\" >ProductName</th>\n",
       "      <th id=\"T_f1845_level0_col5\" class=\"col_heading level0 col5\" >UnitPrice</th>\n",
       "      <th id=\"T_f1845_level0_col6\" class=\"col_heading level0 col6\" >Quantity</th>\n",
       "      <th id=\"T_f1845_level0_col7\" class=\"col_heading level0 col7\" >TotalCost</th>\n",
       "    </tr>\n",
       "  </thead>\n",
       "  <tbody>\n",
       "    <tr>\n",
       "      <td id=\"T_f1845_row0_col0\" class=\"data row0 col0\" >Jaime</td>\n",
       "      <td id=\"T_f1845_row0_col1\" class=\"data row0 col1\" >Yorres</td>\n",
       "      <td id=\"T_f1845_row0_col2\" class=\"data row0 col2\" >542709</td>\n",
       "      <td id=\"T_f1845_row0_col3\" class=\"data row0 col3\" >317.750000</td>\n",
       "      <td id=\"T_f1845_row0_col4\" class=\"data row0 col4\" >Genen Shouyu</td>\n",
       "      <td id=\"T_f1845_row0_col5\" class=\"data row0 col5\" >15.50 kr</td>\n",
       "      <td id=\"T_f1845_row0_col6\" class=\"data row0 col6\" >10</td>\n",
       "      <td id=\"T_f1845_row0_col7\" class=\"data row0 col7\" >155.00 kr</td>\n",
       "    </tr>\n",
       "    <tr>\n",
       "      <td id=\"T_f1845_row1_col0\" class=\"data row1 col0\" >Jaime</td>\n",
       "      <td id=\"T_f1845_row1_col1\" class=\"data row1 col1\" >Yorres</td>\n",
       "      <td id=\"T_f1845_row1_col2\" class=\"data row1 col2\" >542709</td>\n",
       "      <td id=\"T_f1845_row1_col3\" class=\"data row1 col3\" >317.750000</td>\n",
       "      <td id=\"T_f1845_row1_col4\" class=\"data row1 col4\" >Rhönbräu Klosterbier</td>\n",
       "      <td id=\"T_f1845_row1_col5\" class=\"data row1 col5\" >7.75 kr</td>\n",
       "      <td id=\"T_f1845_row1_col6\" class=\"data row1 col6\" >21</td>\n",
       "      <td id=\"T_f1845_row1_col7\" class=\"data row1 col7\" >162.75 kr</td>\n",
       "    </tr>\n",
       "    <tr>\n",
       "      <td id=\"T_f1845_row2_col0\" class=\"data row2 col0\" >Jaime</td>\n",
       "      <td id=\"T_f1845_row2_col1\" class=\"data row2 col1\" >Yorres</td>\n",
       "      <td id=\"T_f1845_row2_col2\" class=\"data row2 col2\" >542849</td>\n",
       "      <td id=\"T_f1845_row2_col3\" class=\"data row2 col3\" >1125.670000</td>\n",
       "      <td id=\"T_f1845_row2_col4\" class=\"data row2 col4\" >Carnarvon Tigers</td>\n",
       "      <td id=\"T_f1845_row2_col5\" class=\"data row2 col5\" >62.50 kr</td>\n",
       "      <td id=\"T_f1845_row2_col6\" class=\"data row2 col6\" >12</td>\n",
       "      <td id=\"T_f1845_row2_col7\" class=\"data row2 col7\" >750.00 kr</td>\n",
       "    </tr>\n",
       "    <tr>\n",
       "      <td id=\"T_f1845_row3_col0\" class=\"data row3 col0\" >Jaime</td>\n",
       "      <td id=\"T_f1845_row3_col1\" class=\"data row3 col1\" >Yorres</td>\n",
       "      <td id=\"T_f1845_row3_col2\" class=\"data row3 col2\" >542849</td>\n",
       "      <td id=\"T_f1845_row3_col3\" class=\"data row3 col3\" >1125.670000</td>\n",
       "      <td id=\"T_f1845_row3_col4\" class=\"data row3 col4\" >Nord-Ost Matjeshering</td>\n",
       "      <td id=\"T_f1845_row3_col5\" class=\"data row3 col5\" >25.89 kr</td>\n",
       "      <td id=\"T_f1845_row3_col6\" class=\"data row3 col6\" >3</td>\n",
       "      <td id=\"T_f1845_row3_col7\" class=\"data row3 col7\" >77.67 kr</td>\n",
       "    </tr>\n",
       "    <tr>\n",
       "      <td id=\"T_f1845_row4_col0\" class=\"data row4 col0\" >Jaime</td>\n",
       "      <td id=\"T_f1845_row4_col1\" class=\"data row4 col1\" >Yorres</td>\n",
       "      <td id=\"T_f1845_row4_col2\" class=\"data row4 col2\" >542849</td>\n",
       "      <td id=\"T_f1845_row4_col3\" class=\"data row4 col3\" >1125.670000</td>\n",
       "      <td id=\"T_f1845_row4_col4\" class=\"data row4 col4\" >Tourtière</td>\n",
       "      <td id=\"T_f1845_row4_col5\" class=\"data row4 col5\" >7.45 kr</td>\n",
       "      <td id=\"T_f1845_row4_col6\" class=\"data row4 col6\" >40</td>\n",
       "      <td id=\"T_f1845_row4_col7\" class=\"data row4 col7\" >298.00 kr</td>\n",
       "    </tr>\n",
       "    <tr>\n",
       "      <td id=\"T_f1845_row5_col0\" class=\"data row5 col0\" >Jaime</td>\n",
       "      <td id=\"T_f1845_row5_col1\" class=\"data row5 col1\" >Yorres</td>\n",
       "      <td id=\"T_f1845_row5_col2\" class=\"data row5 col2\" >542865</td>\n",
       "      <td id=\"T_f1845_row5_col3\" class=\"data row5 col3\" >596.000000</td>\n",
       "      <td id=\"T_f1845_row5_col4\" class=\"data row5 col4\" >Sirop d'érable</td>\n",
       "      <td id=\"T_f1845_row5_col5\" class=\"data row5 col5\" >28.50 kr</td>\n",
       "      <td id=\"T_f1845_row5_col6\" class=\"data row5 col6\" >20</td>\n",
       "      <td id=\"T_f1845_row5_col7\" class=\"data row5 col7\" >570.00 kr</td>\n",
       "    </tr>\n",
       "    <tr>\n",
       "      <td id=\"T_f1845_row6_col0\" class=\"data row6 col0\" >Jaime</td>\n",
       "      <td id=\"T_f1845_row6_col1\" class=\"data row6 col1\" >Yorres</td>\n",
       "      <td id=\"T_f1845_row6_col2\" class=\"data row6 col2\" >542865</td>\n",
       "      <td id=\"T_f1845_row6_col3\" class=\"data row6 col3\" >596.000000</td>\n",
       "      <td id=\"T_f1845_row6_col4\" class=\"data row6 col4\" >Original Frankfurter grüne Soße</td>\n",
       "      <td id=\"T_f1845_row6_col5\" class=\"data row6 col5\" >13.00 kr</td>\n",
       "      <td id=\"T_f1845_row6_col6\" class=\"data row6 col6\" >2</td>\n",
       "      <td id=\"T_f1845_row6_col7\" class=\"data row6 col7\" >26.00 kr</td>\n",
       "    </tr>\n",
       "    <tr>\n",
       "      <td id=\"T_f1845_row7_col0\" class=\"data row7 col0\" >Jaime</td>\n",
       "      <td id=\"T_f1845_row7_col1\" class=\"data row7 col1\" >Yorres</td>\n",
       "      <td id=\"T_f1845_row7_col2\" class=\"data row7 col2\" >543014</td>\n",
       "      <td id=\"T_f1845_row7_col3\" class=\"data row7 col3\" >1450.600000</td>\n",
       "      <td id=\"T_f1845_row7_col4\" class=\"data row7 col4\" >Sir Rodney's Scones</td>\n",
       "      <td id=\"T_f1845_row7_col5\" class=\"data row7 col5\" >10.00 kr</td>\n",
       "      <td id=\"T_f1845_row7_col6\" class=\"data row7 col6\" >40</td>\n",
       "      <td id=\"T_f1845_row7_col7\" class=\"data row7 col7\" >400.00 kr</td>\n",
       "    </tr>\n",
       "    <tr>\n",
       "      <td id=\"T_f1845_row8_col0\" class=\"data row8 col0\" >Jaime</td>\n",
       "      <td id=\"T_f1845_row8_col1\" class=\"data row8 col1\" >Yorres</td>\n",
       "      <td id=\"T_f1845_row8_col2\" class=\"data row8 col2\" >543014</td>\n",
       "      <td id=\"T_f1845_row8_col3\" class=\"data row8 col3\" >1450.600000</td>\n",
       "      <td id=\"T_f1845_row8_col4\" class=\"data row8 col4\" >Gnocchi di nonna Alice</td>\n",
       "      <td id=\"T_f1845_row8_col5\" class=\"data row8 col5\" >38.00 kr</td>\n",
       "      <td id=\"T_f1845_row8_col6\" class=\"data row8 col6\" >21</td>\n",
       "      <td id=\"T_f1845_row8_col7\" class=\"data row8 col7\" >798.00 kr</td>\n",
       "    </tr>\n",
       "    <tr>\n",
       "      <td id=\"T_f1845_row9_col0\" class=\"data row9 col0\" >Jaime</td>\n",
       "      <td id=\"T_f1845_row9_col1\" class=\"data row9 col1\" >Yorres</td>\n",
       "      <td id=\"T_f1845_row9_col2\" class=\"data row9 col2\" >543014</td>\n",
       "      <td id=\"T_f1845_row9_col3\" class=\"data row9 col3\" >1450.600000</td>\n",
       "      <td id=\"T_f1845_row9_col4\" class=\"data row9 col4\" >Louisiana Fiery Hot Pepper Sauce</td>\n",
       "      <td id=\"T_f1845_row9_col5\" class=\"data row9 col5\" >21.05 kr</td>\n",
       "      <td id=\"T_f1845_row9_col6\" class=\"data row9 col6\" >12</td>\n",
       "      <td id=\"T_f1845_row9_col7\" class=\"data row9 col7\" >252.60 kr</td>\n",
       "    </tr>\n",
       "  </tbody>\n",
       "</table>\n"
      ],
      "text/plain": [
       "<pandas.io.formats.style.Styler at 0x21502258d10>"
      ]
     },
     "execution_count": 28,
     "metadata": {},
     "output_type": "execute_result"
    }
   ],
   "source": [
    "filtered_df = DF.head(10).style.format({\"UnitPrice\": \"{:.2f} kr\", \"TotalCost\": \"{:.2f} kr\"}).hide(axis=\"index\")\n",
    "\n",
    "filtered_df\n"
   ]
  },
  {
   "cell_type": "markdown",
   "metadata": {},
   "source": [
    "# Highlight the lowest UnitPrices"
   ]
  },
  {
   "cell_type": "code",
   "execution_count": 29,
   "metadata": {},
   "outputs": [
    {
     "data": {
      "text/html": [
       "<style type=\"text/css\">\n",
       "#T_f1845_row4_col5 {\n",
       "  background-color: red;\n",
       "}\n",
       "</style>\n",
       "<table id=\"T_f1845\">\n",
       "  <thead>\n",
       "    <tr>\n",
       "      <th id=\"T_f1845_level0_col0\" class=\"col_heading level0 col0\" >FirstName</th>\n",
       "      <th id=\"T_f1845_level0_col1\" class=\"col_heading level0 col1\" >LastName</th>\n",
       "      <th id=\"T_f1845_level0_col2\" class=\"col_heading level0 col2\" >OrderNumber</th>\n",
       "      <th id=\"T_f1845_level0_col3\" class=\"col_heading level0 col3\" >TotalAmount</th>\n",
       "      <th id=\"T_f1845_level0_col4\" class=\"col_heading level0 col4\" >ProductName</th>\n",
       "      <th id=\"T_f1845_level0_col5\" class=\"col_heading level0 col5\" >UnitPrice</th>\n",
       "      <th id=\"T_f1845_level0_col6\" class=\"col_heading level0 col6\" >Quantity</th>\n",
       "      <th id=\"T_f1845_level0_col7\" class=\"col_heading level0 col7\" >TotalCost</th>\n",
       "    </tr>\n",
       "  </thead>\n",
       "  <tbody>\n",
       "    <tr>\n",
       "      <td id=\"T_f1845_row0_col0\" class=\"data row0 col0\" >Jaime</td>\n",
       "      <td id=\"T_f1845_row0_col1\" class=\"data row0 col1\" >Yorres</td>\n",
       "      <td id=\"T_f1845_row0_col2\" class=\"data row0 col2\" >542709</td>\n",
       "      <td id=\"T_f1845_row0_col3\" class=\"data row0 col3\" >317.750000</td>\n",
       "      <td id=\"T_f1845_row0_col4\" class=\"data row0 col4\" >Genen Shouyu</td>\n",
       "      <td id=\"T_f1845_row0_col5\" class=\"data row0 col5\" >15.50 kr</td>\n",
       "      <td id=\"T_f1845_row0_col6\" class=\"data row0 col6\" >10</td>\n",
       "      <td id=\"T_f1845_row0_col7\" class=\"data row0 col7\" >155.00 kr</td>\n",
       "    </tr>\n",
       "    <tr>\n",
       "      <td id=\"T_f1845_row1_col0\" class=\"data row1 col0\" >Jaime</td>\n",
       "      <td id=\"T_f1845_row1_col1\" class=\"data row1 col1\" >Yorres</td>\n",
       "      <td id=\"T_f1845_row1_col2\" class=\"data row1 col2\" >542709</td>\n",
       "      <td id=\"T_f1845_row1_col3\" class=\"data row1 col3\" >317.750000</td>\n",
       "      <td id=\"T_f1845_row1_col4\" class=\"data row1 col4\" >Rhönbräu Klosterbier</td>\n",
       "      <td id=\"T_f1845_row1_col5\" class=\"data row1 col5\" >7.75 kr</td>\n",
       "      <td id=\"T_f1845_row1_col6\" class=\"data row1 col6\" >21</td>\n",
       "      <td id=\"T_f1845_row1_col7\" class=\"data row1 col7\" >162.75 kr</td>\n",
       "    </tr>\n",
       "    <tr>\n",
       "      <td id=\"T_f1845_row2_col0\" class=\"data row2 col0\" >Jaime</td>\n",
       "      <td id=\"T_f1845_row2_col1\" class=\"data row2 col1\" >Yorres</td>\n",
       "      <td id=\"T_f1845_row2_col2\" class=\"data row2 col2\" >542849</td>\n",
       "      <td id=\"T_f1845_row2_col3\" class=\"data row2 col3\" >1125.670000</td>\n",
       "      <td id=\"T_f1845_row2_col4\" class=\"data row2 col4\" >Carnarvon Tigers</td>\n",
       "      <td id=\"T_f1845_row2_col5\" class=\"data row2 col5\" >62.50 kr</td>\n",
       "      <td id=\"T_f1845_row2_col6\" class=\"data row2 col6\" >12</td>\n",
       "      <td id=\"T_f1845_row2_col7\" class=\"data row2 col7\" >750.00 kr</td>\n",
       "    </tr>\n",
       "    <tr>\n",
       "      <td id=\"T_f1845_row3_col0\" class=\"data row3 col0\" >Jaime</td>\n",
       "      <td id=\"T_f1845_row3_col1\" class=\"data row3 col1\" >Yorres</td>\n",
       "      <td id=\"T_f1845_row3_col2\" class=\"data row3 col2\" >542849</td>\n",
       "      <td id=\"T_f1845_row3_col3\" class=\"data row3 col3\" >1125.670000</td>\n",
       "      <td id=\"T_f1845_row3_col4\" class=\"data row3 col4\" >Nord-Ost Matjeshering</td>\n",
       "      <td id=\"T_f1845_row3_col5\" class=\"data row3 col5\" >25.89 kr</td>\n",
       "      <td id=\"T_f1845_row3_col6\" class=\"data row3 col6\" >3</td>\n",
       "      <td id=\"T_f1845_row3_col7\" class=\"data row3 col7\" >77.67 kr</td>\n",
       "    </tr>\n",
       "    <tr>\n",
       "      <td id=\"T_f1845_row4_col0\" class=\"data row4 col0\" >Jaime</td>\n",
       "      <td id=\"T_f1845_row4_col1\" class=\"data row4 col1\" >Yorres</td>\n",
       "      <td id=\"T_f1845_row4_col2\" class=\"data row4 col2\" >542849</td>\n",
       "      <td id=\"T_f1845_row4_col3\" class=\"data row4 col3\" >1125.670000</td>\n",
       "      <td id=\"T_f1845_row4_col4\" class=\"data row4 col4\" >Tourtière</td>\n",
       "      <td id=\"T_f1845_row4_col5\" class=\"data row4 col5\" >7.45 kr</td>\n",
       "      <td id=\"T_f1845_row4_col6\" class=\"data row4 col6\" >40</td>\n",
       "      <td id=\"T_f1845_row4_col7\" class=\"data row4 col7\" >298.00 kr</td>\n",
       "    </tr>\n",
       "    <tr>\n",
       "      <td id=\"T_f1845_row5_col0\" class=\"data row5 col0\" >Jaime</td>\n",
       "      <td id=\"T_f1845_row5_col1\" class=\"data row5 col1\" >Yorres</td>\n",
       "      <td id=\"T_f1845_row5_col2\" class=\"data row5 col2\" >542865</td>\n",
       "      <td id=\"T_f1845_row5_col3\" class=\"data row5 col3\" >596.000000</td>\n",
       "      <td id=\"T_f1845_row5_col4\" class=\"data row5 col4\" >Sirop d'érable</td>\n",
       "      <td id=\"T_f1845_row5_col5\" class=\"data row5 col5\" >28.50 kr</td>\n",
       "      <td id=\"T_f1845_row5_col6\" class=\"data row5 col6\" >20</td>\n",
       "      <td id=\"T_f1845_row5_col7\" class=\"data row5 col7\" >570.00 kr</td>\n",
       "    </tr>\n",
       "    <tr>\n",
       "      <td id=\"T_f1845_row6_col0\" class=\"data row6 col0\" >Jaime</td>\n",
       "      <td id=\"T_f1845_row6_col1\" class=\"data row6 col1\" >Yorres</td>\n",
       "      <td id=\"T_f1845_row6_col2\" class=\"data row6 col2\" >542865</td>\n",
       "      <td id=\"T_f1845_row6_col3\" class=\"data row6 col3\" >596.000000</td>\n",
       "      <td id=\"T_f1845_row6_col4\" class=\"data row6 col4\" >Original Frankfurter grüne Soße</td>\n",
       "      <td id=\"T_f1845_row6_col5\" class=\"data row6 col5\" >13.00 kr</td>\n",
       "      <td id=\"T_f1845_row6_col6\" class=\"data row6 col6\" >2</td>\n",
       "      <td id=\"T_f1845_row6_col7\" class=\"data row6 col7\" >26.00 kr</td>\n",
       "    </tr>\n",
       "    <tr>\n",
       "      <td id=\"T_f1845_row7_col0\" class=\"data row7 col0\" >Jaime</td>\n",
       "      <td id=\"T_f1845_row7_col1\" class=\"data row7 col1\" >Yorres</td>\n",
       "      <td id=\"T_f1845_row7_col2\" class=\"data row7 col2\" >543014</td>\n",
       "      <td id=\"T_f1845_row7_col3\" class=\"data row7 col3\" >1450.600000</td>\n",
       "      <td id=\"T_f1845_row7_col4\" class=\"data row7 col4\" >Sir Rodney's Scones</td>\n",
       "      <td id=\"T_f1845_row7_col5\" class=\"data row7 col5\" >10.00 kr</td>\n",
       "      <td id=\"T_f1845_row7_col6\" class=\"data row7 col6\" >40</td>\n",
       "      <td id=\"T_f1845_row7_col7\" class=\"data row7 col7\" >400.00 kr</td>\n",
       "    </tr>\n",
       "    <tr>\n",
       "      <td id=\"T_f1845_row8_col0\" class=\"data row8 col0\" >Jaime</td>\n",
       "      <td id=\"T_f1845_row8_col1\" class=\"data row8 col1\" >Yorres</td>\n",
       "      <td id=\"T_f1845_row8_col2\" class=\"data row8 col2\" >543014</td>\n",
       "      <td id=\"T_f1845_row8_col3\" class=\"data row8 col3\" >1450.600000</td>\n",
       "      <td id=\"T_f1845_row8_col4\" class=\"data row8 col4\" >Gnocchi di nonna Alice</td>\n",
       "      <td id=\"T_f1845_row8_col5\" class=\"data row8 col5\" >38.00 kr</td>\n",
       "      <td id=\"T_f1845_row8_col6\" class=\"data row8 col6\" >21</td>\n",
       "      <td id=\"T_f1845_row8_col7\" class=\"data row8 col7\" >798.00 kr</td>\n",
       "    </tr>\n",
       "    <tr>\n",
       "      <td id=\"T_f1845_row9_col0\" class=\"data row9 col0\" >Jaime</td>\n",
       "      <td id=\"T_f1845_row9_col1\" class=\"data row9 col1\" >Yorres</td>\n",
       "      <td id=\"T_f1845_row9_col2\" class=\"data row9 col2\" >543014</td>\n",
       "      <td id=\"T_f1845_row9_col3\" class=\"data row9 col3\" >1450.600000</td>\n",
       "      <td id=\"T_f1845_row9_col4\" class=\"data row9 col4\" >Louisiana Fiery Hot Pepper Sauce</td>\n",
       "      <td id=\"T_f1845_row9_col5\" class=\"data row9 col5\" >21.05 kr</td>\n",
       "      <td id=\"T_f1845_row9_col6\" class=\"data row9 col6\" >12</td>\n",
       "      <td id=\"T_f1845_row9_col7\" class=\"data row9 col7\" >252.60 kr</td>\n",
       "    </tr>\n",
       "  </tbody>\n",
       "</table>\n"
      ],
      "text/plain": [
       "<pandas.io.formats.style.Styler at 0x21502258d10>"
      ]
     },
     "execution_count": 29,
     "metadata": {},
     "output_type": "execute_result"
    }
   ],
   "source": [
    "mindf = (\n",
    "    filtered_df\n",
    "    .format({\"UnitPrice\": \"{:.2f} kr\", \"TotalCost\": \"{:.2f} kr\"})\n",
    "    .highlight_min(subset=[\"UnitPrice\"], color=\"red\")\n",
    "    .hide(axis=\"index\")  # hides row index in output\n",
    ")\n",
    "mindf\n"
   ]
  },
  {
   "cell_type": "markdown",
   "metadata": {},
   "source": [
    "# Use Applymap() to highlight all messages background of the Total Cost cells on the following conditions:\n",
    "\n",
    "<ol>\n",
    "   <li>value >100 Green</li>\n",
    "<li>value >200 Yellow</li>\n",
    "<li>value >300 Orange</li>\n",
    "<li>value >400 Red</li>\n",
    "<li>value >500 Blue</li>\n",
    "<li>value >600 Purple</li>\n",
    "    </ol>"
   ]
  },
  {
   "cell_type": "code",
   "execution_count": 30,
   "metadata": {},
   "outputs": [],
   "source": [
    "def highlight_total_cost(val):\n",
    "    if val > 600:\n",
    "        return 'background-color: purple'\n",
    "    elif val > 500:\n",
    "        return 'background-color: blue'\n",
    "    elif val > 400:\n",
    "        return 'background-color: red'\n",
    "    elif val > 300:\n",
    "        return 'background-color: orange'\n",
    "    elif val > 200:\n",
    "        return 'background-color: yellow'\n",
    "    elif val > 100:\n",
    "        return 'background-color: green'\n",
    "    else:\n",
    "        return ''\n"
   ]
  },
  {
   "cell_type": "markdown",
   "metadata": {},
   "source": [
    "# View a display of the full Dataframe (No truncation)"
   ]
  },
  {
   "cell_type": "code",
   "execution_count": 31,
   "metadata": {},
   "outputs": [
    {
     "name": "stderr",
     "output_type": "stream",
     "text": [
      "C:\\Users\\alexa\\AppData\\Local\\Temp\\ipykernel_34212\\3866301098.py:1: FutureWarning: Styler.applymap has been deprecated. Use Styler.map instead.\n",
      "  styled_df = DF.style.applymap(highlight_total_cost, subset=['TotalCost'])\n"
     ]
    },
    {
     "data": {
      "text/html": [
       "<style type=\"text/css\">\n",
       "#T_6f451_row0_col7, #T_6f451_row1_col7 {\n",
       "  background-color: green;\n",
       "}\n",
       "#T_6f451_row2_col7, #T_6f451_row8_col7 {\n",
       "  background-color: purple;\n",
       "}\n",
       "#T_6f451_row4_col7, #T_6f451_row9_col7 {\n",
       "  background-color: yellow;\n",
       "}\n",
       "#T_6f451_row5_col7 {\n",
       "  background-color: blue;\n",
       "}\n",
       "#T_6f451_row7_col7 {\n",
       "  background-color: orange;\n",
       "}\n",
       "</style>\n",
       "<table id=\"T_6f451\">\n",
       "  <thead>\n",
       "    <tr>\n",
       "      <th class=\"blank level0\" >&nbsp;</th>\n",
       "      <th id=\"T_6f451_level0_col0\" class=\"col_heading level0 col0\" >FirstName</th>\n",
       "      <th id=\"T_6f451_level0_col1\" class=\"col_heading level0 col1\" >LastName</th>\n",
       "      <th id=\"T_6f451_level0_col2\" class=\"col_heading level0 col2\" >OrderNumber</th>\n",
       "      <th id=\"T_6f451_level0_col3\" class=\"col_heading level0 col3\" >TotalAmount</th>\n",
       "      <th id=\"T_6f451_level0_col4\" class=\"col_heading level0 col4\" >ProductName</th>\n",
       "      <th id=\"T_6f451_level0_col5\" class=\"col_heading level0 col5\" >UnitPrice</th>\n",
       "      <th id=\"T_6f451_level0_col6\" class=\"col_heading level0 col6\" >Quantity</th>\n",
       "      <th id=\"T_6f451_level0_col7\" class=\"col_heading level0 col7\" >TotalCost</th>\n",
       "    </tr>\n",
       "  </thead>\n",
       "  <tbody>\n",
       "    <tr>\n",
       "      <th id=\"T_6f451_level0_row0\" class=\"row_heading level0 row0\" >0</th>\n",
       "      <td id=\"T_6f451_row0_col0\" class=\"data row0 col0\" >Jaime</td>\n",
       "      <td id=\"T_6f451_row0_col1\" class=\"data row0 col1\" >Yorres</td>\n",
       "      <td id=\"T_6f451_row0_col2\" class=\"data row0 col2\" >542709</td>\n",
       "      <td id=\"T_6f451_row0_col3\" class=\"data row0 col3\" >317.750000</td>\n",
       "      <td id=\"T_6f451_row0_col4\" class=\"data row0 col4\" >Genen Shouyu</td>\n",
       "      <td id=\"T_6f451_row0_col5\" class=\"data row0 col5\" >15.500000</td>\n",
       "      <td id=\"T_6f451_row0_col6\" class=\"data row0 col6\" >10</td>\n",
       "      <td id=\"T_6f451_row0_col7\" class=\"data row0 col7\" >155.000000</td>\n",
       "    </tr>\n",
       "    <tr>\n",
       "      <th id=\"T_6f451_level0_row1\" class=\"row_heading level0 row1\" >1</th>\n",
       "      <td id=\"T_6f451_row1_col0\" class=\"data row1 col0\" >Jaime</td>\n",
       "      <td id=\"T_6f451_row1_col1\" class=\"data row1 col1\" >Yorres</td>\n",
       "      <td id=\"T_6f451_row1_col2\" class=\"data row1 col2\" >542709</td>\n",
       "      <td id=\"T_6f451_row1_col3\" class=\"data row1 col3\" >317.750000</td>\n",
       "      <td id=\"T_6f451_row1_col4\" class=\"data row1 col4\" >Rhönbräu Klosterbier</td>\n",
       "      <td id=\"T_6f451_row1_col5\" class=\"data row1 col5\" >7.750000</td>\n",
       "      <td id=\"T_6f451_row1_col6\" class=\"data row1 col6\" >21</td>\n",
       "      <td id=\"T_6f451_row1_col7\" class=\"data row1 col7\" >162.750000</td>\n",
       "    </tr>\n",
       "    <tr>\n",
       "      <th id=\"T_6f451_level0_row2\" class=\"row_heading level0 row2\" >2</th>\n",
       "      <td id=\"T_6f451_row2_col0\" class=\"data row2 col0\" >Jaime</td>\n",
       "      <td id=\"T_6f451_row2_col1\" class=\"data row2 col1\" >Yorres</td>\n",
       "      <td id=\"T_6f451_row2_col2\" class=\"data row2 col2\" >542849</td>\n",
       "      <td id=\"T_6f451_row2_col3\" class=\"data row2 col3\" >1125.670000</td>\n",
       "      <td id=\"T_6f451_row2_col4\" class=\"data row2 col4\" >Carnarvon Tigers</td>\n",
       "      <td id=\"T_6f451_row2_col5\" class=\"data row2 col5\" >62.500000</td>\n",
       "      <td id=\"T_6f451_row2_col6\" class=\"data row2 col6\" >12</td>\n",
       "      <td id=\"T_6f451_row2_col7\" class=\"data row2 col7\" >750.000000</td>\n",
       "    </tr>\n",
       "    <tr>\n",
       "      <th id=\"T_6f451_level0_row3\" class=\"row_heading level0 row3\" >3</th>\n",
       "      <td id=\"T_6f451_row3_col0\" class=\"data row3 col0\" >Jaime</td>\n",
       "      <td id=\"T_6f451_row3_col1\" class=\"data row3 col1\" >Yorres</td>\n",
       "      <td id=\"T_6f451_row3_col2\" class=\"data row3 col2\" >542849</td>\n",
       "      <td id=\"T_6f451_row3_col3\" class=\"data row3 col3\" >1125.670000</td>\n",
       "      <td id=\"T_6f451_row3_col4\" class=\"data row3 col4\" >Nord-Ost Matjeshering</td>\n",
       "      <td id=\"T_6f451_row3_col5\" class=\"data row3 col5\" >25.890000</td>\n",
       "      <td id=\"T_6f451_row3_col6\" class=\"data row3 col6\" >3</td>\n",
       "      <td id=\"T_6f451_row3_col7\" class=\"data row3 col7\" >77.670000</td>\n",
       "    </tr>\n",
       "    <tr>\n",
       "      <th id=\"T_6f451_level0_row4\" class=\"row_heading level0 row4\" >4</th>\n",
       "      <td id=\"T_6f451_row4_col0\" class=\"data row4 col0\" >Jaime</td>\n",
       "      <td id=\"T_6f451_row4_col1\" class=\"data row4 col1\" >Yorres</td>\n",
       "      <td id=\"T_6f451_row4_col2\" class=\"data row4 col2\" >542849</td>\n",
       "      <td id=\"T_6f451_row4_col3\" class=\"data row4 col3\" >1125.670000</td>\n",
       "      <td id=\"T_6f451_row4_col4\" class=\"data row4 col4\" >Tourtière</td>\n",
       "      <td id=\"T_6f451_row4_col5\" class=\"data row4 col5\" >7.450000</td>\n",
       "      <td id=\"T_6f451_row4_col6\" class=\"data row4 col6\" >40</td>\n",
       "      <td id=\"T_6f451_row4_col7\" class=\"data row4 col7\" >298.000000</td>\n",
       "    </tr>\n",
       "    <tr>\n",
       "      <th id=\"T_6f451_level0_row5\" class=\"row_heading level0 row5\" >5</th>\n",
       "      <td id=\"T_6f451_row5_col0\" class=\"data row5 col0\" >Jaime</td>\n",
       "      <td id=\"T_6f451_row5_col1\" class=\"data row5 col1\" >Yorres</td>\n",
       "      <td id=\"T_6f451_row5_col2\" class=\"data row5 col2\" >542865</td>\n",
       "      <td id=\"T_6f451_row5_col3\" class=\"data row5 col3\" >596.000000</td>\n",
       "      <td id=\"T_6f451_row5_col4\" class=\"data row5 col4\" >Sirop d'érable</td>\n",
       "      <td id=\"T_6f451_row5_col5\" class=\"data row5 col5\" >28.500000</td>\n",
       "      <td id=\"T_6f451_row5_col6\" class=\"data row5 col6\" >20</td>\n",
       "      <td id=\"T_6f451_row5_col7\" class=\"data row5 col7\" >570.000000</td>\n",
       "    </tr>\n",
       "    <tr>\n",
       "      <th id=\"T_6f451_level0_row6\" class=\"row_heading level0 row6\" >6</th>\n",
       "      <td id=\"T_6f451_row6_col0\" class=\"data row6 col0\" >Jaime</td>\n",
       "      <td id=\"T_6f451_row6_col1\" class=\"data row6 col1\" >Yorres</td>\n",
       "      <td id=\"T_6f451_row6_col2\" class=\"data row6 col2\" >542865</td>\n",
       "      <td id=\"T_6f451_row6_col3\" class=\"data row6 col3\" >596.000000</td>\n",
       "      <td id=\"T_6f451_row6_col4\" class=\"data row6 col4\" >Original Frankfurter grüne Soße</td>\n",
       "      <td id=\"T_6f451_row6_col5\" class=\"data row6 col5\" >13.000000</td>\n",
       "      <td id=\"T_6f451_row6_col6\" class=\"data row6 col6\" >2</td>\n",
       "      <td id=\"T_6f451_row6_col7\" class=\"data row6 col7\" >26.000000</td>\n",
       "    </tr>\n",
       "    <tr>\n",
       "      <th id=\"T_6f451_level0_row7\" class=\"row_heading level0 row7\" >7</th>\n",
       "      <td id=\"T_6f451_row7_col0\" class=\"data row7 col0\" >Jaime</td>\n",
       "      <td id=\"T_6f451_row7_col1\" class=\"data row7 col1\" >Yorres</td>\n",
       "      <td id=\"T_6f451_row7_col2\" class=\"data row7 col2\" >543014</td>\n",
       "      <td id=\"T_6f451_row7_col3\" class=\"data row7 col3\" >1450.600000</td>\n",
       "      <td id=\"T_6f451_row7_col4\" class=\"data row7 col4\" >Sir Rodney's Scones</td>\n",
       "      <td id=\"T_6f451_row7_col5\" class=\"data row7 col5\" >10.000000</td>\n",
       "      <td id=\"T_6f451_row7_col6\" class=\"data row7 col6\" >40</td>\n",
       "      <td id=\"T_6f451_row7_col7\" class=\"data row7 col7\" >400.000000</td>\n",
       "    </tr>\n",
       "    <tr>\n",
       "      <th id=\"T_6f451_level0_row8\" class=\"row_heading level0 row8\" >8</th>\n",
       "      <td id=\"T_6f451_row8_col0\" class=\"data row8 col0\" >Jaime</td>\n",
       "      <td id=\"T_6f451_row8_col1\" class=\"data row8 col1\" >Yorres</td>\n",
       "      <td id=\"T_6f451_row8_col2\" class=\"data row8 col2\" >543014</td>\n",
       "      <td id=\"T_6f451_row8_col3\" class=\"data row8 col3\" >1450.600000</td>\n",
       "      <td id=\"T_6f451_row8_col4\" class=\"data row8 col4\" >Gnocchi di nonna Alice</td>\n",
       "      <td id=\"T_6f451_row8_col5\" class=\"data row8 col5\" >38.000000</td>\n",
       "      <td id=\"T_6f451_row8_col6\" class=\"data row8 col6\" >21</td>\n",
       "      <td id=\"T_6f451_row8_col7\" class=\"data row8 col7\" >798.000000</td>\n",
       "    </tr>\n",
       "    <tr>\n",
       "      <th id=\"T_6f451_level0_row9\" class=\"row_heading level0 row9\" >9</th>\n",
       "      <td id=\"T_6f451_row9_col0\" class=\"data row9 col0\" >Jaime</td>\n",
       "      <td id=\"T_6f451_row9_col1\" class=\"data row9 col1\" >Yorres</td>\n",
       "      <td id=\"T_6f451_row9_col2\" class=\"data row9 col2\" >543014</td>\n",
       "      <td id=\"T_6f451_row9_col3\" class=\"data row9 col3\" >1450.600000</td>\n",
       "      <td id=\"T_6f451_row9_col4\" class=\"data row9 col4\" >Louisiana Fiery Hot Pepper Sauce</td>\n",
       "      <td id=\"T_6f451_row9_col5\" class=\"data row9 col5\" >21.050000</td>\n",
       "      <td id=\"T_6f451_row9_col6\" class=\"data row9 col6\" >12</td>\n",
       "      <td id=\"T_6f451_row9_col7\" class=\"data row9 col7\" >252.600000</td>\n",
       "    </tr>\n",
       "  </tbody>\n",
       "</table>\n"
      ],
      "text/plain": [
       "<pandas.io.formats.style.Styler at 0x215021b7b50>"
      ]
     },
     "execution_count": 31,
     "metadata": {},
     "output_type": "execute_result"
    }
   ],
   "source": [
    "styled_df = DF.style.applymap(highlight_total_cost, subset=['TotalCost'])\n",
    "\n",
    "styled_df"
   ]
  },
  {
   "cell_type": "markdown",
   "metadata": {},
   "source": [
    "# Truncate the view of the Dataframe to 13 rows.\n"
   ]
  },
  {
   "cell_type": "code",
   "execution_count": 32,
   "metadata": {},
   "outputs": [
    {
     "data": {
      "text/html": [
       "<div>\n",
       "<style scoped>\n",
       "    .dataframe tbody tr th:only-of-type {\n",
       "        vertical-align: middle;\n",
       "    }\n",
       "\n",
       "    .dataframe tbody tr th {\n",
       "        vertical-align: top;\n",
       "    }\n",
       "\n",
       "    .dataframe thead th {\n",
       "        text-align: right;\n",
       "    }\n",
       "</style>\n",
       "<table border=\"1\" class=\"dataframe\">\n",
       "  <thead>\n",
       "    <tr style=\"text-align: right;\">\n",
       "      <th></th>\n",
       "      <th>FirstName</th>\n",
       "      <th>LastName</th>\n",
       "      <th>OrderNumber</th>\n",
       "      <th>TotalAmount</th>\n",
       "      <th>ProductName</th>\n",
       "      <th>UnitPrice</th>\n",
       "      <th>Quantity</th>\n",
       "      <th>TotalCost</th>\n",
       "    </tr>\n",
       "  </thead>\n",
       "  <tbody>\n",
       "    <tr>\n",
       "      <th>0</th>\n",
       "      <td>Jaime</td>\n",
       "      <td>Yorres</td>\n",
       "      <td>542709</td>\n",
       "      <td>317.75</td>\n",
       "      <td>Genen Shouyu</td>\n",
       "      <td>15.50</td>\n",
       "      <td>10</td>\n",
       "      <td>155.00</td>\n",
       "    </tr>\n",
       "    <tr>\n",
       "      <th>1</th>\n",
       "      <td>Jaime</td>\n",
       "      <td>Yorres</td>\n",
       "      <td>542709</td>\n",
       "      <td>317.75</td>\n",
       "      <td>Rhönbräu Klosterbier</td>\n",
       "      <td>7.75</td>\n",
       "      <td>21</td>\n",
       "      <td>162.75</td>\n",
       "    </tr>\n",
       "    <tr>\n",
       "      <th>2</th>\n",
       "      <td>Jaime</td>\n",
       "      <td>Yorres</td>\n",
       "      <td>542849</td>\n",
       "      <td>1125.67</td>\n",
       "      <td>Carnarvon Tigers</td>\n",
       "      <td>62.50</td>\n",
       "      <td>12</td>\n",
       "      <td>750.00</td>\n",
       "    </tr>\n",
       "    <tr>\n",
       "      <th>3</th>\n",
       "      <td>Jaime</td>\n",
       "      <td>Yorres</td>\n",
       "      <td>542849</td>\n",
       "      <td>1125.67</td>\n",
       "      <td>Nord-Ost Matjeshering</td>\n",
       "      <td>25.89</td>\n",
       "      <td>3</td>\n",
       "      <td>77.67</td>\n",
       "    </tr>\n",
       "    <tr>\n",
       "      <th>4</th>\n",
       "      <td>Jaime</td>\n",
       "      <td>Yorres</td>\n",
       "      <td>542849</td>\n",
       "      <td>1125.67</td>\n",
       "      <td>Tourtière</td>\n",
       "      <td>7.45</td>\n",
       "      <td>40</td>\n",
       "      <td>298.00</td>\n",
       "    </tr>\n",
       "    <tr>\n",
       "      <th>5</th>\n",
       "      <td>Jaime</td>\n",
       "      <td>Yorres</td>\n",
       "      <td>542865</td>\n",
       "      <td>596.00</td>\n",
       "      <td>Sirop d'érable</td>\n",
       "      <td>28.50</td>\n",
       "      <td>20</td>\n",
       "      <td>570.00</td>\n",
       "    </tr>\n",
       "    <tr>\n",
       "      <th>6</th>\n",
       "      <td>Jaime</td>\n",
       "      <td>Yorres</td>\n",
       "      <td>542865</td>\n",
       "      <td>596.00</td>\n",
       "      <td>Original Frankfurter grüne Soße</td>\n",
       "      <td>13.00</td>\n",
       "      <td>2</td>\n",
       "      <td>26.00</td>\n",
       "    </tr>\n",
       "    <tr>\n",
       "      <th>7</th>\n",
       "      <td>Jaime</td>\n",
       "      <td>Yorres</td>\n",
       "      <td>543014</td>\n",
       "      <td>1450.60</td>\n",
       "      <td>Sir Rodney's Scones</td>\n",
       "      <td>10.00</td>\n",
       "      <td>40</td>\n",
       "      <td>400.00</td>\n",
       "    </tr>\n",
       "    <tr>\n",
       "      <th>8</th>\n",
       "      <td>Jaime</td>\n",
       "      <td>Yorres</td>\n",
       "      <td>543014</td>\n",
       "      <td>1450.60</td>\n",
       "      <td>Gnocchi di nonna Alice</td>\n",
       "      <td>38.00</td>\n",
       "      <td>21</td>\n",
       "      <td>798.00</td>\n",
       "    </tr>\n",
       "    <tr>\n",
       "      <th>9</th>\n",
       "      <td>Jaime</td>\n",
       "      <td>Yorres</td>\n",
       "      <td>543014</td>\n",
       "      <td>1450.60</td>\n",
       "      <td>Louisiana Fiery Hot Pepper Sauce</td>\n",
       "      <td>21.05</td>\n",
       "      <td>12</td>\n",
       "      <td>252.60</td>\n",
       "    </tr>\n",
       "  </tbody>\n",
       "</table>\n",
       "</div>"
      ],
      "text/plain": [
       "  FirstName LastName OrderNumber  TotalAmount  \\\n",
       "0     Jaime   Yorres      542709       317.75   \n",
       "1     Jaime   Yorres      542709       317.75   \n",
       "2     Jaime   Yorres      542849      1125.67   \n",
       "3     Jaime   Yorres      542849      1125.67   \n",
       "4     Jaime   Yorres      542849      1125.67   \n",
       "5     Jaime   Yorres      542865       596.00   \n",
       "6     Jaime   Yorres      542865       596.00   \n",
       "7     Jaime   Yorres      543014      1450.60   \n",
       "8     Jaime   Yorres      543014      1450.60   \n",
       "9     Jaime   Yorres      543014      1450.60   \n",
       "\n",
       "                        ProductName  UnitPrice  Quantity  TotalCost  \n",
       "0                      Genen Shouyu      15.50        10     155.00  \n",
       "1              Rhönbräu Klosterbier       7.75        21     162.75  \n",
       "2                  Carnarvon Tigers      62.50        12     750.00  \n",
       "3             Nord-Ost Matjeshering      25.89         3      77.67  \n",
       "4                         Tourtière       7.45        40     298.00  \n",
       "5                    Sirop d'érable      28.50        20     570.00  \n",
       "6   Original Frankfurter grüne Soße      13.00         2      26.00  \n",
       "7               Sir Rodney's Scones      10.00        40     400.00  \n",
       "8            Gnocchi di nonna Alice      38.00        21     798.00  \n",
       "9  Louisiana Fiery Hot Pepper Sauce      21.05        12     252.60  "
      ]
     },
     "execution_count": 32,
     "metadata": {},
     "output_type": "execute_result"
    }
   ],
   "source": [
    "pd.set_option('display.max_rows', 13)\n",
    "DF"
   ]
  },
  {
   "cell_type": "markdown",
   "metadata": {},
   "source": [
    "# Reset the view of the Data Frame."
   ]
  },
  {
   "cell_type": "code",
   "execution_count": 33,
   "metadata": {},
   "outputs": [
    {
     "data": {
      "text/html": [
       "<div>\n",
       "<style scoped>\n",
       "    .dataframe tbody tr th:only-of-type {\n",
       "        vertical-align: middle;\n",
       "    }\n",
       "\n",
       "    .dataframe tbody tr th {\n",
       "        vertical-align: top;\n",
       "    }\n",
       "\n",
       "    .dataframe thead th {\n",
       "        text-align: right;\n",
       "    }\n",
       "</style>\n",
       "<table border=\"1\" class=\"dataframe\">\n",
       "  <thead>\n",
       "    <tr style=\"text-align: right;\">\n",
       "      <th></th>\n",
       "      <th>FirstName</th>\n",
       "      <th>LastName</th>\n",
       "      <th>OrderNumber</th>\n",
       "      <th>TotalAmount</th>\n",
       "      <th>ProductName</th>\n",
       "      <th>UnitPrice</th>\n",
       "      <th>Quantity</th>\n",
       "      <th>TotalCost</th>\n",
       "    </tr>\n",
       "  </thead>\n",
       "  <tbody>\n",
       "    <tr>\n",
       "      <th>0</th>\n",
       "      <td>Jaime</td>\n",
       "      <td>Yorres</td>\n",
       "      <td>542709</td>\n",
       "      <td>317.75</td>\n",
       "      <td>Genen Shouyu</td>\n",
       "      <td>15.50</td>\n",
       "      <td>10</td>\n",
       "      <td>155.00</td>\n",
       "    </tr>\n",
       "    <tr>\n",
       "      <th>1</th>\n",
       "      <td>Jaime</td>\n",
       "      <td>Yorres</td>\n",
       "      <td>542709</td>\n",
       "      <td>317.75</td>\n",
       "      <td>Rhönbräu Klosterbier</td>\n",
       "      <td>7.75</td>\n",
       "      <td>21</td>\n",
       "      <td>162.75</td>\n",
       "    </tr>\n",
       "    <tr>\n",
       "      <th>2</th>\n",
       "      <td>Jaime</td>\n",
       "      <td>Yorres</td>\n",
       "      <td>542849</td>\n",
       "      <td>1125.67</td>\n",
       "      <td>Carnarvon Tigers</td>\n",
       "      <td>62.50</td>\n",
       "      <td>12</td>\n",
       "      <td>750.00</td>\n",
       "    </tr>\n",
       "    <tr>\n",
       "      <th>3</th>\n",
       "      <td>Jaime</td>\n",
       "      <td>Yorres</td>\n",
       "      <td>542849</td>\n",
       "      <td>1125.67</td>\n",
       "      <td>Nord-Ost Matjeshering</td>\n",
       "      <td>25.89</td>\n",
       "      <td>3</td>\n",
       "      <td>77.67</td>\n",
       "    </tr>\n",
       "    <tr>\n",
       "      <th>4</th>\n",
       "      <td>Jaime</td>\n",
       "      <td>Yorres</td>\n",
       "      <td>542849</td>\n",
       "      <td>1125.67</td>\n",
       "      <td>Tourtière</td>\n",
       "      <td>7.45</td>\n",
       "      <td>40</td>\n",
       "      <td>298.00</td>\n",
       "    </tr>\n",
       "    <tr>\n",
       "      <th>5</th>\n",
       "      <td>Jaime</td>\n",
       "      <td>Yorres</td>\n",
       "      <td>542865</td>\n",
       "      <td>596.00</td>\n",
       "      <td>Sirop d'érable</td>\n",
       "      <td>28.50</td>\n",
       "      <td>20</td>\n",
       "      <td>570.00</td>\n",
       "    </tr>\n",
       "    <tr>\n",
       "      <th>6</th>\n",
       "      <td>Jaime</td>\n",
       "      <td>Yorres</td>\n",
       "      <td>542865</td>\n",
       "      <td>596.00</td>\n",
       "      <td>Original Frankfurter grüne Soße</td>\n",
       "      <td>13.00</td>\n",
       "      <td>2</td>\n",
       "      <td>26.00</td>\n",
       "    </tr>\n",
       "    <tr>\n",
       "      <th>7</th>\n",
       "      <td>Jaime</td>\n",
       "      <td>Yorres</td>\n",
       "      <td>543014</td>\n",
       "      <td>1450.60</td>\n",
       "      <td>Sir Rodney's Scones</td>\n",
       "      <td>10.00</td>\n",
       "      <td>40</td>\n",
       "      <td>400.00</td>\n",
       "    </tr>\n",
       "    <tr>\n",
       "      <th>8</th>\n",
       "      <td>Jaime</td>\n",
       "      <td>Yorres</td>\n",
       "      <td>543014</td>\n",
       "      <td>1450.60</td>\n",
       "      <td>Gnocchi di nonna Alice</td>\n",
       "      <td>38.00</td>\n",
       "      <td>21</td>\n",
       "      <td>798.00</td>\n",
       "    </tr>\n",
       "    <tr>\n",
       "      <th>9</th>\n",
       "      <td>Jaime</td>\n",
       "      <td>Yorres</td>\n",
       "      <td>543014</td>\n",
       "      <td>1450.60</td>\n",
       "      <td>Louisiana Fiery Hot Pepper Sauce</td>\n",
       "      <td>21.05</td>\n",
       "      <td>12</td>\n",
       "      <td>252.60</td>\n",
       "    </tr>\n",
       "  </tbody>\n",
       "</table>\n",
       "</div>"
      ],
      "text/plain": [
       "  FirstName LastName OrderNumber  TotalAmount  \\\n",
       "0     Jaime   Yorres      542709       317.75   \n",
       "1     Jaime   Yorres      542709       317.75   \n",
       "2     Jaime   Yorres      542849      1125.67   \n",
       "3     Jaime   Yorres      542849      1125.67   \n",
       "4     Jaime   Yorres      542849      1125.67   \n",
       "5     Jaime   Yorres      542865       596.00   \n",
       "6     Jaime   Yorres      542865       596.00   \n",
       "7     Jaime   Yorres      543014      1450.60   \n",
       "8     Jaime   Yorres      543014      1450.60   \n",
       "9     Jaime   Yorres      543014      1450.60   \n",
       "\n",
       "                        ProductName  UnitPrice  Quantity  TotalCost  \n",
       "0                      Genen Shouyu      15.50        10     155.00  \n",
       "1              Rhönbräu Klosterbier       7.75        21     162.75  \n",
       "2                  Carnarvon Tigers      62.50        12     750.00  \n",
       "3             Nord-Ost Matjeshering      25.89         3      77.67  \n",
       "4                         Tourtière       7.45        40     298.00  \n",
       "5                    Sirop d'érable      28.50        20     570.00  \n",
       "6   Original Frankfurter grüne Soße      13.00         2      26.00  \n",
       "7               Sir Rodney's Scones      10.00        40     400.00  \n",
       "8            Gnocchi di nonna Alice      38.00        21     798.00  \n",
       "9  Louisiana Fiery Hot Pepper Sauce      21.05        12     252.60  "
      ]
     },
     "execution_count": 33,
     "metadata": {},
     "output_type": "execute_result"
    }
   ],
   "source": [
    "pd.reset_option(\"display.max_rows\")\n",
    "pd.reset_option(\"display.max_columns\")\n",
    "DF"
   ]
  },
  {
   "cell_type": "code",
   "execution_count": 34,
   "metadata": {},
   "outputs": [
    {
     "name": "stderr",
     "output_type": "stream",
     "text": [
      "C:\\Users\\alexa\\AppData\\Local\\Temp\\ipykernel_34212\\2005309930.py:19: FutureWarning: Styler.applymap has been deprecated. Use Styler.map instead.\n",
      "  DFnewdf = DF.style.applymap(color_magic, subset = ['Quantity'])\n"
     ]
    },
    {
     "data": {
      "text/html": [
       "<style type=\"text/css\">\n",
       "#T_c8148_row0_col6, #T_c8148_row2_col6, #T_c8148_row3_col6, #T_c8148_row6_col6, #T_c8148_row9_col6 {\n",
       "  color: red;\n",
       "}\n",
       "#T_c8148_row1_col6, #T_c8148_row4_col6, #T_c8148_row5_col6, #T_c8148_row7_col6, #T_c8148_row8_col6 {\n",
       "  color: green;\n",
       "}\n",
       "</style>\n",
       "<table id=\"T_c8148\">\n",
       "  <thead>\n",
       "    <tr>\n",
       "      <th class=\"blank level0\" >&nbsp;</th>\n",
       "      <th id=\"T_c8148_level0_col0\" class=\"col_heading level0 col0\" >FirstName</th>\n",
       "      <th id=\"T_c8148_level0_col1\" class=\"col_heading level0 col1\" >LastName</th>\n",
       "      <th id=\"T_c8148_level0_col2\" class=\"col_heading level0 col2\" >OrderNumber</th>\n",
       "      <th id=\"T_c8148_level0_col3\" class=\"col_heading level0 col3\" >TotalAmount</th>\n",
       "      <th id=\"T_c8148_level0_col4\" class=\"col_heading level0 col4\" >ProductName</th>\n",
       "      <th id=\"T_c8148_level0_col5\" class=\"col_heading level0 col5\" >UnitPrice</th>\n",
       "      <th id=\"T_c8148_level0_col6\" class=\"col_heading level0 col6\" >Quantity</th>\n",
       "      <th id=\"T_c8148_level0_col7\" class=\"col_heading level0 col7\" >TotalCost</th>\n",
       "    </tr>\n",
       "  </thead>\n",
       "  <tbody>\n",
       "    <tr>\n",
       "      <th id=\"T_c8148_level0_row0\" class=\"row_heading level0 row0\" >0</th>\n",
       "      <td id=\"T_c8148_row0_col0\" class=\"data row0 col0\" >Jaime</td>\n",
       "      <td id=\"T_c8148_row0_col1\" class=\"data row0 col1\" >Yorres</td>\n",
       "      <td id=\"T_c8148_row0_col2\" class=\"data row0 col2\" >542709</td>\n",
       "      <td id=\"T_c8148_row0_col3\" class=\"data row0 col3\" >317.750000</td>\n",
       "      <td id=\"T_c8148_row0_col4\" class=\"data row0 col4\" >Genen Shouyu</td>\n",
       "      <td id=\"T_c8148_row0_col5\" class=\"data row0 col5\" >15.500000</td>\n",
       "      <td id=\"T_c8148_row0_col6\" class=\"data row0 col6\" >10</td>\n",
       "      <td id=\"T_c8148_row0_col7\" class=\"data row0 col7\" >155.000000</td>\n",
       "    </tr>\n",
       "    <tr>\n",
       "      <th id=\"T_c8148_level0_row1\" class=\"row_heading level0 row1\" >1</th>\n",
       "      <td id=\"T_c8148_row1_col0\" class=\"data row1 col0\" >Jaime</td>\n",
       "      <td id=\"T_c8148_row1_col1\" class=\"data row1 col1\" >Yorres</td>\n",
       "      <td id=\"T_c8148_row1_col2\" class=\"data row1 col2\" >542709</td>\n",
       "      <td id=\"T_c8148_row1_col3\" class=\"data row1 col3\" >317.750000</td>\n",
       "      <td id=\"T_c8148_row1_col4\" class=\"data row1 col4\" >Rhönbräu Klosterbier</td>\n",
       "      <td id=\"T_c8148_row1_col5\" class=\"data row1 col5\" >7.750000</td>\n",
       "      <td id=\"T_c8148_row1_col6\" class=\"data row1 col6\" >21</td>\n",
       "      <td id=\"T_c8148_row1_col7\" class=\"data row1 col7\" >162.750000</td>\n",
       "    </tr>\n",
       "    <tr>\n",
       "      <th id=\"T_c8148_level0_row2\" class=\"row_heading level0 row2\" >2</th>\n",
       "      <td id=\"T_c8148_row2_col0\" class=\"data row2 col0\" >Jaime</td>\n",
       "      <td id=\"T_c8148_row2_col1\" class=\"data row2 col1\" >Yorres</td>\n",
       "      <td id=\"T_c8148_row2_col2\" class=\"data row2 col2\" >542849</td>\n",
       "      <td id=\"T_c8148_row2_col3\" class=\"data row2 col3\" >1125.670000</td>\n",
       "      <td id=\"T_c8148_row2_col4\" class=\"data row2 col4\" >Carnarvon Tigers</td>\n",
       "      <td id=\"T_c8148_row2_col5\" class=\"data row2 col5\" >62.500000</td>\n",
       "      <td id=\"T_c8148_row2_col6\" class=\"data row2 col6\" >12</td>\n",
       "      <td id=\"T_c8148_row2_col7\" class=\"data row2 col7\" >750.000000</td>\n",
       "    </tr>\n",
       "    <tr>\n",
       "      <th id=\"T_c8148_level0_row3\" class=\"row_heading level0 row3\" >3</th>\n",
       "      <td id=\"T_c8148_row3_col0\" class=\"data row3 col0\" >Jaime</td>\n",
       "      <td id=\"T_c8148_row3_col1\" class=\"data row3 col1\" >Yorres</td>\n",
       "      <td id=\"T_c8148_row3_col2\" class=\"data row3 col2\" >542849</td>\n",
       "      <td id=\"T_c8148_row3_col3\" class=\"data row3 col3\" >1125.670000</td>\n",
       "      <td id=\"T_c8148_row3_col4\" class=\"data row3 col4\" >Nord-Ost Matjeshering</td>\n",
       "      <td id=\"T_c8148_row3_col5\" class=\"data row3 col5\" >25.890000</td>\n",
       "      <td id=\"T_c8148_row3_col6\" class=\"data row3 col6\" >3</td>\n",
       "      <td id=\"T_c8148_row3_col7\" class=\"data row3 col7\" >77.670000</td>\n",
       "    </tr>\n",
       "    <tr>\n",
       "      <th id=\"T_c8148_level0_row4\" class=\"row_heading level0 row4\" >4</th>\n",
       "      <td id=\"T_c8148_row4_col0\" class=\"data row4 col0\" >Jaime</td>\n",
       "      <td id=\"T_c8148_row4_col1\" class=\"data row4 col1\" >Yorres</td>\n",
       "      <td id=\"T_c8148_row4_col2\" class=\"data row4 col2\" >542849</td>\n",
       "      <td id=\"T_c8148_row4_col3\" class=\"data row4 col3\" >1125.670000</td>\n",
       "      <td id=\"T_c8148_row4_col4\" class=\"data row4 col4\" >Tourtière</td>\n",
       "      <td id=\"T_c8148_row4_col5\" class=\"data row4 col5\" >7.450000</td>\n",
       "      <td id=\"T_c8148_row4_col6\" class=\"data row4 col6\" >40</td>\n",
       "      <td id=\"T_c8148_row4_col7\" class=\"data row4 col7\" >298.000000</td>\n",
       "    </tr>\n",
       "    <tr>\n",
       "      <th id=\"T_c8148_level0_row5\" class=\"row_heading level0 row5\" >5</th>\n",
       "      <td id=\"T_c8148_row5_col0\" class=\"data row5 col0\" >Jaime</td>\n",
       "      <td id=\"T_c8148_row5_col1\" class=\"data row5 col1\" >Yorres</td>\n",
       "      <td id=\"T_c8148_row5_col2\" class=\"data row5 col2\" >542865</td>\n",
       "      <td id=\"T_c8148_row5_col3\" class=\"data row5 col3\" >596.000000</td>\n",
       "      <td id=\"T_c8148_row5_col4\" class=\"data row5 col4\" >Sirop d'érable</td>\n",
       "      <td id=\"T_c8148_row5_col5\" class=\"data row5 col5\" >28.500000</td>\n",
       "      <td id=\"T_c8148_row5_col6\" class=\"data row5 col6\" >20</td>\n",
       "      <td id=\"T_c8148_row5_col7\" class=\"data row5 col7\" >570.000000</td>\n",
       "    </tr>\n",
       "    <tr>\n",
       "      <th id=\"T_c8148_level0_row6\" class=\"row_heading level0 row6\" >6</th>\n",
       "      <td id=\"T_c8148_row6_col0\" class=\"data row6 col0\" >Jaime</td>\n",
       "      <td id=\"T_c8148_row6_col1\" class=\"data row6 col1\" >Yorres</td>\n",
       "      <td id=\"T_c8148_row6_col2\" class=\"data row6 col2\" >542865</td>\n",
       "      <td id=\"T_c8148_row6_col3\" class=\"data row6 col3\" >596.000000</td>\n",
       "      <td id=\"T_c8148_row6_col4\" class=\"data row6 col4\" >Original Frankfurter grüne Soße</td>\n",
       "      <td id=\"T_c8148_row6_col5\" class=\"data row6 col5\" >13.000000</td>\n",
       "      <td id=\"T_c8148_row6_col6\" class=\"data row6 col6\" >2</td>\n",
       "      <td id=\"T_c8148_row6_col7\" class=\"data row6 col7\" >26.000000</td>\n",
       "    </tr>\n",
       "    <tr>\n",
       "      <th id=\"T_c8148_level0_row7\" class=\"row_heading level0 row7\" >7</th>\n",
       "      <td id=\"T_c8148_row7_col0\" class=\"data row7 col0\" >Jaime</td>\n",
       "      <td id=\"T_c8148_row7_col1\" class=\"data row7 col1\" >Yorres</td>\n",
       "      <td id=\"T_c8148_row7_col2\" class=\"data row7 col2\" >543014</td>\n",
       "      <td id=\"T_c8148_row7_col3\" class=\"data row7 col3\" >1450.600000</td>\n",
       "      <td id=\"T_c8148_row7_col4\" class=\"data row7 col4\" >Sir Rodney's Scones</td>\n",
       "      <td id=\"T_c8148_row7_col5\" class=\"data row7 col5\" >10.000000</td>\n",
       "      <td id=\"T_c8148_row7_col6\" class=\"data row7 col6\" >40</td>\n",
       "      <td id=\"T_c8148_row7_col7\" class=\"data row7 col7\" >400.000000</td>\n",
       "    </tr>\n",
       "    <tr>\n",
       "      <th id=\"T_c8148_level0_row8\" class=\"row_heading level0 row8\" >8</th>\n",
       "      <td id=\"T_c8148_row8_col0\" class=\"data row8 col0\" >Jaime</td>\n",
       "      <td id=\"T_c8148_row8_col1\" class=\"data row8 col1\" >Yorres</td>\n",
       "      <td id=\"T_c8148_row8_col2\" class=\"data row8 col2\" >543014</td>\n",
       "      <td id=\"T_c8148_row8_col3\" class=\"data row8 col3\" >1450.600000</td>\n",
       "      <td id=\"T_c8148_row8_col4\" class=\"data row8 col4\" >Gnocchi di nonna Alice</td>\n",
       "      <td id=\"T_c8148_row8_col5\" class=\"data row8 col5\" >38.000000</td>\n",
       "      <td id=\"T_c8148_row8_col6\" class=\"data row8 col6\" >21</td>\n",
       "      <td id=\"T_c8148_row8_col7\" class=\"data row8 col7\" >798.000000</td>\n",
       "    </tr>\n",
       "    <tr>\n",
       "      <th id=\"T_c8148_level0_row9\" class=\"row_heading level0 row9\" >9</th>\n",
       "      <td id=\"T_c8148_row9_col0\" class=\"data row9 col0\" >Jaime</td>\n",
       "      <td id=\"T_c8148_row9_col1\" class=\"data row9 col1\" >Yorres</td>\n",
       "      <td id=\"T_c8148_row9_col2\" class=\"data row9 col2\" >543014</td>\n",
       "      <td id=\"T_c8148_row9_col3\" class=\"data row9 col3\" >1450.600000</td>\n",
       "      <td id=\"T_c8148_row9_col4\" class=\"data row9 col4\" >Louisiana Fiery Hot Pepper Sauce</td>\n",
       "      <td id=\"T_c8148_row9_col5\" class=\"data row9 col5\" >21.050000</td>\n",
       "      <td id=\"T_c8148_row9_col6\" class=\"data row9 col6\" >12</td>\n",
       "      <td id=\"T_c8148_row9_col7\" class=\"data row9 col7\" >252.600000</td>\n",
       "    </tr>\n",
       "  </tbody>\n",
       "</table>\n"
      ],
      "text/plain": [
       "<pandas.io.formats.style.Styler at 0x2150223b910>"
      ]
     },
     "execution_count": 34,
     "metadata": {},
     "output_type": "execute_result"
    }
   ],
   "source": [
    "def color_magic(DF):\n",
    "  \"\"\"\n",
    "  Colors elements in a dateframe\n",
    "  green if positive and red if\n",
    "  negative. Does not color NaN\n",
    "  values.\n",
    "  \"\"\"\n",
    "\n",
    "  if DF < 20:\n",
    "    color = 'red'\n",
    "  elif DF > 10:\n",
    "    color = 'green'\n",
    "  else:\n",
    "    color = 'black'\n",
    "\n",
    "  return 'color: %s' % color\n",
    "\n",
    "\n",
    "DFnewdf = DF.style.applymap(color_magic, subset = ['Quantity'])\n",
    "DFnewdf"
   ]
  }
 ],
 "metadata": {
  "kernelspec": {
   "display_name": "Python 3",
   "language": "python",
   "name": "python3"
  },
  "language_info": {
   "codemirror_mode": {
    "name": "ipython",
    "version": 3
   },
   "file_extension": ".py",
   "mimetype": "text/x-python",
   "name": "python",
   "nbconvert_exporter": "python",
   "pygments_lexer": "ipython3",
   "version": "3.11.9"
  }
 },
 "nbformat": 4,
 "nbformat_minor": 4
}
